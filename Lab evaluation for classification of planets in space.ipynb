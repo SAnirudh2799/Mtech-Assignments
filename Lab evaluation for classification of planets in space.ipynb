{
 "cells": [
  {
   "cell_type": "markdown",
   "id": "aa9580f5",
   "metadata": {},
   "source": [
    "# Importing all necessary libraries"
   ]
  },
  {
   "cell_type": "code",
   "execution_count": 1,
   "id": "c449fdd2",
   "metadata": {},
   "outputs": [],
   "source": [
    "import pandas as pd\n",
    "import numpy as np\n",
    "import matplotlib.pyplot as plt\n",
    "import seaborn as sns\n",
    "from sklearn.linear_model import LogisticRegression\n",
    "from sklearn.svm import LinearSVC\n",
    "from sklearn.naive_bayes import GaussianNB\n",
    "from sklearn.neighbors import KNeighborsClassifier\n",
    "from sklearn.ensemble import RandomForestClassifier"
   ]
  },
  {
   "cell_type": "markdown",
   "id": "8b62e8f3",
   "metadata": {},
   "source": [
    "# Importing evaluation parameters"
   ]
  },
  {
   "cell_type": "code",
   "execution_count": 4,
   "id": "aea8bf66",
   "metadata": {},
   "outputs": [],
   "source": [
    "from sklearn import metrics\n",
    "from sklearn.metrics import confusion_matrix\n",
    "from sklearn.metrics import classification_report\n",
    "from sklearn.metrics import accuracy_score"
   ]
  },
  {
   "cell_type": "markdown",
   "id": "da6aa634",
   "metadata": {},
   "source": [
    "# Training dataset"
   ]
  },
  {
   "cell_type": "code",
   "execution_count": 5,
   "id": "cdc768ac",
   "metadata": {},
   "outputs": [],
   "source": [
    "traindf=pd.read_csv(\"C:/Users/Anirudh/Desktop/Coding/Datasets/Exoplanets/exoTrain.csv\")"
   ]
  },
  {
   "cell_type": "code",
   "execution_count": 6,
   "id": "5c697138",
   "metadata": {},
   "outputs": [
    {
     "data": {
      "text/html": [
       "<div>\n",
       "<style scoped>\n",
       "    .dataframe tbody tr th:only-of-type {\n",
       "        vertical-align: middle;\n",
       "    }\n",
       "\n",
       "    .dataframe tbody tr th {\n",
       "        vertical-align: top;\n",
       "    }\n",
       "\n",
       "    .dataframe thead th {\n",
       "        text-align: right;\n",
       "    }\n",
       "</style>\n",
       "<table border=\"1\" class=\"dataframe\">\n",
       "  <thead>\n",
       "    <tr style=\"text-align: right;\">\n",
       "      <th></th>\n",
       "      <th>LABEL</th>\n",
       "      <th>FLUX.1</th>\n",
       "      <th>FLUX.2</th>\n",
       "      <th>FLUX.3</th>\n",
       "      <th>FLUX.4</th>\n",
       "      <th>FLUX.5</th>\n",
       "      <th>FLUX.6</th>\n",
       "      <th>FLUX.7</th>\n",
       "      <th>FLUX.8</th>\n",
       "      <th>FLUX.9</th>\n",
       "      <th>...</th>\n",
       "      <th>FLUX.3188</th>\n",
       "      <th>FLUX.3189</th>\n",
       "      <th>FLUX.3190</th>\n",
       "      <th>FLUX.3191</th>\n",
       "      <th>FLUX.3192</th>\n",
       "      <th>FLUX.3193</th>\n",
       "      <th>FLUX.3194</th>\n",
       "      <th>FLUX.3195</th>\n",
       "      <th>FLUX.3196</th>\n",
       "      <th>FLUX.3197</th>\n",
       "    </tr>\n",
       "  </thead>\n",
       "  <tbody>\n",
       "    <tr>\n",
       "      <th>0</th>\n",
       "      <td>2</td>\n",
       "      <td>93.85</td>\n",
       "      <td>83.81</td>\n",
       "      <td>20.10</td>\n",
       "      <td>-26.98</td>\n",
       "      <td>-39.56</td>\n",
       "      <td>-124.71</td>\n",
       "      <td>-135.18</td>\n",
       "      <td>-96.27</td>\n",
       "      <td>-79.89</td>\n",
       "      <td>...</td>\n",
       "      <td>-78.07</td>\n",
       "      <td>-102.15</td>\n",
       "      <td>-102.15</td>\n",
       "      <td>25.13</td>\n",
       "      <td>48.57</td>\n",
       "      <td>92.54</td>\n",
       "      <td>39.32</td>\n",
       "      <td>61.42</td>\n",
       "      <td>5.08</td>\n",
       "      <td>-39.54</td>\n",
       "    </tr>\n",
       "    <tr>\n",
       "      <th>1</th>\n",
       "      <td>2</td>\n",
       "      <td>-38.88</td>\n",
       "      <td>-33.83</td>\n",
       "      <td>-58.54</td>\n",
       "      <td>-40.09</td>\n",
       "      <td>-79.31</td>\n",
       "      <td>-72.81</td>\n",
       "      <td>-86.55</td>\n",
       "      <td>-85.33</td>\n",
       "      <td>-83.97</td>\n",
       "      <td>...</td>\n",
       "      <td>-3.28</td>\n",
       "      <td>-32.21</td>\n",
       "      <td>-32.21</td>\n",
       "      <td>-24.89</td>\n",
       "      <td>-4.86</td>\n",
       "      <td>0.76</td>\n",
       "      <td>-11.70</td>\n",
       "      <td>6.46</td>\n",
       "      <td>16.00</td>\n",
       "      <td>19.93</td>\n",
       "    </tr>\n",
       "    <tr>\n",
       "      <th>2</th>\n",
       "      <td>2</td>\n",
       "      <td>532.64</td>\n",
       "      <td>535.92</td>\n",
       "      <td>513.73</td>\n",
       "      <td>496.92</td>\n",
       "      <td>456.45</td>\n",
       "      <td>466.00</td>\n",
       "      <td>464.50</td>\n",
       "      <td>486.39</td>\n",
       "      <td>436.56</td>\n",
       "      <td>...</td>\n",
       "      <td>-71.69</td>\n",
       "      <td>13.31</td>\n",
       "      <td>13.31</td>\n",
       "      <td>-29.89</td>\n",
       "      <td>-20.88</td>\n",
       "      <td>5.06</td>\n",
       "      <td>-11.80</td>\n",
       "      <td>-28.91</td>\n",
       "      <td>-70.02</td>\n",
       "      <td>-96.67</td>\n",
       "    </tr>\n",
       "    <tr>\n",
       "      <th>3</th>\n",
       "      <td>2</td>\n",
       "      <td>326.52</td>\n",
       "      <td>347.39</td>\n",
       "      <td>302.35</td>\n",
       "      <td>298.13</td>\n",
       "      <td>317.74</td>\n",
       "      <td>312.70</td>\n",
       "      <td>322.33</td>\n",
       "      <td>311.31</td>\n",
       "      <td>312.42</td>\n",
       "      <td>...</td>\n",
       "      <td>5.71</td>\n",
       "      <td>-3.73</td>\n",
       "      <td>-3.73</td>\n",
       "      <td>30.05</td>\n",
       "      <td>20.03</td>\n",
       "      <td>-12.67</td>\n",
       "      <td>-8.77</td>\n",
       "      <td>-17.31</td>\n",
       "      <td>-17.35</td>\n",
       "      <td>13.98</td>\n",
       "    </tr>\n",
       "    <tr>\n",
       "      <th>4</th>\n",
       "      <td>2</td>\n",
       "      <td>-1107.21</td>\n",
       "      <td>-1112.59</td>\n",
       "      <td>-1118.95</td>\n",
       "      <td>-1095.10</td>\n",
       "      <td>-1057.55</td>\n",
       "      <td>-1034.48</td>\n",
       "      <td>-998.34</td>\n",
       "      <td>-1022.71</td>\n",
       "      <td>-989.57</td>\n",
       "      <td>...</td>\n",
       "      <td>-594.37</td>\n",
       "      <td>-401.66</td>\n",
       "      <td>-401.66</td>\n",
       "      <td>-357.24</td>\n",
       "      <td>-443.76</td>\n",
       "      <td>-438.54</td>\n",
       "      <td>-399.71</td>\n",
       "      <td>-384.65</td>\n",
       "      <td>-411.79</td>\n",
       "      <td>-510.54</td>\n",
       "    </tr>\n",
       "  </tbody>\n",
       "</table>\n",
       "<p>5 rows × 3198 columns</p>\n",
       "</div>"
      ],
      "text/plain": [
       "   LABEL   FLUX.1   FLUX.2   FLUX.3   FLUX.4   FLUX.5   FLUX.6  FLUX.7  \\\n",
       "0      2    93.85    83.81    20.10   -26.98   -39.56  -124.71 -135.18   \n",
       "1      2   -38.88   -33.83   -58.54   -40.09   -79.31   -72.81  -86.55   \n",
       "2      2   532.64   535.92   513.73   496.92   456.45   466.00  464.50   \n",
       "3      2   326.52   347.39   302.35   298.13   317.74   312.70  322.33   \n",
       "4      2 -1107.21 -1112.59 -1118.95 -1095.10 -1057.55 -1034.48 -998.34   \n",
       "\n",
       "    FLUX.8  FLUX.9  ...  FLUX.3188  FLUX.3189  FLUX.3190  FLUX.3191  \\\n",
       "0   -96.27  -79.89  ...     -78.07    -102.15    -102.15      25.13   \n",
       "1   -85.33  -83.97  ...      -3.28     -32.21     -32.21     -24.89   \n",
       "2   486.39  436.56  ...     -71.69      13.31      13.31     -29.89   \n",
       "3   311.31  312.42  ...       5.71      -3.73      -3.73      30.05   \n",
       "4 -1022.71 -989.57  ...    -594.37    -401.66    -401.66    -357.24   \n",
       "\n",
       "   FLUX.3192  FLUX.3193  FLUX.3194  FLUX.3195  FLUX.3196  FLUX.3197  \n",
       "0      48.57      92.54      39.32      61.42       5.08     -39.54  \n",
       "1      -4.86       0.76     -11.70       6.46      16.00      19.93  \n",
       "2     -20.88       5.06     -11.80     -28.91     -70.02     -96.67  \n",
       "3      20.03     -12.67      -8.77     -17.31     -17.35      13.98  \n",
       "4    -443.76    -438.54    -399.71    -384.65    -411.79    -510.54  \n",
       "\n",
       "[5 rows x 3198 columns]"
      ]
     },
     "execution_count": 6,
     "metadata": {},
     "output_type": "execute_result"
    }
   ],
   "source": [
    "traindf.head()"
   ]
  },
  {
   "cell_type": "code",
   "execution_count": 7,
   "id": "4f3fa06b",
   "metadata": {},
   "outputs": [
    {
     "data": {
      "text/html": [
       "<div>\n",
       "<style scoped>\n",
       "    .dataframe tbody tr th:only-of-type {\n",
       "        vertical-align: middle;\n",
       "    }\n",
       "\n",
       "    .dataframe tbody tr th {\n",
       "        vertical-align: top;\n",
       "    }\n",
       "\n",
       "    .dataframe thead th {\n",
       "        text-align: right;\n",
       "    }\n",
       "</style>\n",
       "<table border=\"1\" class=\"dataframe\">\n",
       "  <thead>\n",
       "    <tr style=\"text-align: right;\">\n",
       "      <th></th>\n",
       "      <th>LABEL</th>\n",
       "      <th>FLUX.1</th>\n",
       "      <th>FLUX.2</th>\n",
       "      <th>FLUX.3</th>\n",
       "      <th>FLUX.4</th>\n",
       "      <th>FLUX.5</th>\n",
       "      <th>FLUX.6</th>\n",
       "      <th>FLUX.7</th>\n",
       "      <th>FLUX.8</th>\n",
       "      <th>FLUX.9</th>\n",
       "      <th>...</th>\n",
       "      <th>FLUX.3188</th>\n",
       "      <th>FLUX.3189</th>\n",
       "      <th>FLUX.3190</th>\n",
       "      <th>FLUX.3191</th>\n",
       "      <th>FLUX.3192</th>\n",
       "      <th>FLUX.3193</th>\n",
       "      <th>FLUX.3194</th>\n",
       "      <th>FLUX.3195</th>\n",
       "      <th>FLUX.3196</th>\n",
       "      <th>FLUX.3197</th>\n",
       "    </tr>\n",
       "  </thead>\n",
       "  <tbody>\n",
       "    <tr>\n",
       "      <th>5082</th>\n",
       "      <td>1</td>\n",
       "      <td>-91.91</td>\n",
       "      <td>-92.97</td>\n",
       "      <td>-78.76</td>\n",
       "      <td>-97.33</td>\n",
       "      <td>-68.00</td>\n",
       "      <td>-68.24</td>\n",
       "      <td>-75.48</td>\n",
       "      <td>-49.25</td>\n",
       "      <td>-30.92</td>\n",
       "      <td>...</td>\n",
       "      <td>139.95</td>\n",
       "      <td>147.26</td>\n",
       "      <td>156.95</td>\n",
       "      <td>155.64</td>\n",
       "      <td>156.36</td>\n",
       "      <td>151.75</td>\n",
       "      <td>-24.45</td>\n",
       "      <td>-17.00</td>\n",
       "      <td>3.23</td>\n",
       "      <td>19.28</td>\n",
       "    </tr>\n",
       "    <tr>\n",
       "      <th>5083</th>\n",
       "      <td>1</td>\n",
       "      <td>989.75</td>\n",
       "      <td>891.01</td>\n",
       "      <td>908.53</td>\n",
       "      <td>851.83</td>\n",
       "      <td>755.11</td>\n",
       "      <td>615.78</td>\n",
       "      <td>595.77</td>\n",
       "      <td>458.87</td>\n",
       "      <td>492.84</td>\n",
       "      <td>...</td>\n",
       "      <td>-26.50</td>\n",
       "      <td>-4.84</td>\n",
       "      <td>-76.30</td>\n",
       "      <td>-37.84</td>\n",
       "      <td>-153.83</td>\n",
       "      <td>-136.16</td>\n",
       "      <td>38.03</td>\n",
       "      <td>100.28</td>\n",
       "      <td>-45.64</td>\n",
       "      <td>35.58</td>\n",
       "    </tr>\n",
       "    <tr>\n",
       "      <th>5084</th>\n",
       "      <td>1</td>\n",
       "      <td>273.39</td>\n",
       "      <td>278.00</td>\n",
       "      <td>261.73</td>\n",
       "      <td>236.99</td>\n",
       "      <td>280.73</td>\n",
       "      <td>264.90</td>\n",
       "      <td>252.92</td>\n",
       "      <td>254.88</td>\n",
       "      <td>237.60</td>\n",
       "      <td>...</td>\n",
       "      <td>-26.82</td>\n",
       "      <td>-53.89</td>\n",
       "      <td>-48.71</td>\n",
       "      <td>30.99</td>\n",
       "      <td>15.96</td>\n",
       "      <td>-3.47</td>\n",
       "      <td>65.73</td>\n",
       "      <td>88.42</td>\n",
       "      <td>79.07</td>\n",
       "      <td>79.43</td>\n",
       "    </tr>\n",
       "    <tr>\n",
       "      <th>5085</th>\n",
       "      <td>1</td>\n",
       "      <td>3.82</td>\n",
       "      <td>2.09</td>\n",
       "      <td>-3.29</td>\n",
       "      <td>-2.88</td>\n",
       "      <td>1.66</td>\n",
       "      <td>-0.75</td>\n",
       "      <td>3.85</td>\n",
       "      <td>-0.03</td>\n",
       "      <td>3.28</td>\n",
       "      <td>...</td>\n",
       "      <td>10.86</td>\n",
       "      <td>-3.23</td>\n",
       "      <td>-5.10</td>\n",
       "      <td>-4.61</td>\n",
       "      <td>-9.82</td>\n",
       "      <td>-1.50</td>\n",
       "      <td>-4.65</td>\n",
       "      <td>-14.55</td>\n",
       "      <td>-6.41</td>\n",
       "      <td>-2.55</td>\n",
       "    </tr>\n",
       "    <tr>\n",
       "      <th>5086</th>\n",
       "      <td>1</td>\n",
       "      <td>323.28</td>\n",
       "      <td>306.36</td>\n",
       "      <td>293.16</td>\n",
       "      <td>287.67</td>\n",
       "      <td>249.89</td>\n",
       "      <td>218.30</td>\n",
       "      <td>188.86</td>\n",
       "      <td>178.93</td>\n",
       "      <td>118.93</td>\n",
       "      <td>...</td>\n",
       "      <td>71.19</td>\n",
       "      <td>0.97</td>\n",
       "      <td>55.20</td>\n",
       "      <td>-1.63</td>\n",
       "      <td>-5.50</td>\n",
       "      <td>-25.33</td>\n",
       "      <td>-41.31</td>\n",
       "      <td>-16.72</td>\n",
       "      <td>-14.09</td>\n",
       "      <td>27.82</td>\n",
       "    </tr>\n",
       "  </tbody>\n",
       "</table>\n",
       "<p>5 rows × 3198 columns</p>\n",
       "</div>"
      ],
      "text/plain": [
       "      LABEL  FLUX.1  FLUX.2  FLUX.3  FLUX.4  FLUX.5  FLUX.6  FLUX.7  FLUX.8  \\\n",
       "5082      1  -91.91  -92.97  -78.76  -97.33  -68.00  -68.24  -75.48  -49.25   \n",
       "5083      1  989.75  891.01  908.53  851.83  755.11  615.78  595.77  458.87   \n",
       "5084      1  273.39  278.00  261.73  236.99  280.73  264.90  252.92  254.88   \n",
       "5085      1    3.82    2.09   -3.29   -2.88    1.66   -0.75    3.85   -0.03   \n",
       "5086      1  323.28  306.36  293.16  287.67  249.89  218.30  188.86  178.93   \n",
       "\n",
       "      FLUX.9  ...  FLUX.3188  FLUX.3189  FLUX.3190  FLUX.3191  FLUX.3192  \\\n",
       "5082  -30.92  ...     139.95     147.26     156.95     155.64     156.36   \n",
       "5083  492.84  ...     -26.50      -4.84     -76.30     -37.84    -153.83   \n",
       "5084  237.60  ...     -26.82     -53.89     -48.71      30.99      15.96   \n",
       "5085    3.28  ...      10.86      -3.23      -5.10      -4.61      -9.82   \n",
       "5086  118.93  ...      71.19       0.97      55.20      -1.63      -5.50   \n",
       "\n",
       "      FLUX.3193  FLUX.3194  FLUX.3195  FLUX.3196  FLUX.3197  \n",
       "5082     151.75     -24.45     -17.00       3.23      19.28  \n",
       "5083    -136.16      38.03     100.28     -45.64      35.58  \n",
       "5084      -3.47      65.73      88.42      79.07      79.43  \n",
       "5085      -1.50      -4.65     -14.55      -6.41      -2.55  \n",
       "5086     -25.33     -41.31     -16.72     -14.09      27.82  \n",
       "\n",
       "[5 rows x 3198 columns]"
      ]
     },
     "execution_count": 7,
     "metadata": {},
     "output_type": "execute_result"
    }
   ],
   "source": [
    "traindf.tail()"
   ]
  },
  {
   "cell_type": "markdown",
   "id": "3f23eb03",
   "metadata": {},
   "source": [
    "# Testing dataset"
   ]
  },
  {
   "cell_type": "code",
   "execution_count": 56,
   "id": "72c8f1ec",
   "metadata": {},
   "outputs": [],
   "source": [
    "valdf= pd.read_csv(\"C:/Users/Anirudh/Desktop/Coding/Datasets/Exoplanets/exoTest.csv\")"
   ]
  },
  {
   "cell_type": "code",
   "execution_count": 57,
   "id": "b36dd295",
   "metadata": {},
   "outputs": [
    {
     "data": {
      "text/html": [
       "<div>\n",
       "<style scoped>\n",
       "    .dataframe tbody tr th:only-of-type {\n",
       "        vertical-align: middle;\n",
       "    }\n",
       "\n",
       "    .dataframe tbody tr th {\n",
       "        vertical-align: top;\n",
       "    }\n",
       "\n",
       "    .dataframe thead th {\n",
       "        text-align: right;\n",
       "    }\n",
       "</style>\n",
       "<table border=\"1\" class=\"dataframe\">\n",
       "  <thead>\n",
       "    <tr style=\"text-align: right;\">\n",
       "      <th></th>\n",
       "      <th>LABEL</th>\n",
       "      <th>FLUX.1</th>\n",
       "      <th>FLUX.2</th>\n",
       "      <th>FLUX.3</th>\n",
       "      <th>FLUX.4</th>\n",
       "      <th>FLUX.5</th>\n",
       "      <th>FLUX.6</th>\n",
       "      <th>FLUX.7</th>\n",
       "      <th>FLUX.8</th>\n",
       "      <th>FLUX.9</th>\n",
       "      <th>...</th>\n",
       "      <th>FLUX.3188</th>\n",
       "      <th>FLUX.3189</th>\n",
       "      <th>FLUX.3190</th>\n",
       "      <th>FLUX.3191</th>\n",
       "      <th>FLUX.3192</th>\n",
       "      <th>FLUX.3193</th>\n",
       "      <th>FLUX.3194</th>\n",
       "      <th>FLUX.3195</th>\n",
       "      <th>FLUX.3196</th>\n",
       "      <th>FLUX.3197</th>\n",
       "    </tr>\n",
       "  </thead>\n",
       "  <tbody>\n",
       "    <tr>\n",
       "      <th>0</th>\n",
       "      <td>2</td>\n",
       "      <td>119.88</td>\n",
       "      <td>100.21</td>\n",
       "      <td>86.46</td>\n",
       "      <td>48.68</td>\n",
       "      <td>46.12</td>\n",
       "      <td>39.39</td>\n",
       "      <td>18.57</td>\n",
       "      <td>6.98</td>\n",
       "      <td>6.63</td>\n",
       "      <td>...</td>\n",
       "      <td>14.52</td>\n",
       "      <td>19.29</td>\n",
       "      <td>14.44</td>\n",
       "      <td>-1.62</td>\n",
       "      <td>13.33</td>\n",
       "      <td>45.50</td>\n",
       "      <td>31.93</td>\n",
       "      <td>35.78</td>\n",
       "      <td>269.43</td>\n",
       "      <td>57.72</td>\n",
       "    </tr>\n",
       "    <tr>\n",
       "      <th>1</th>\n",
       "      <td>2</td>\n",
       "      <td>5736.59</td>\n",
       "      <td>5699.98</td>\n",
       "      <td>5717.16</td>\n",
       "      <td>5692.73</td>\n",
       "      <td>5663.83</td>\n",
       "      <td>5631.16</td>\n",
       "      <td>5626.39</td>\n",
       "      <td>5569.47</td>\n",
       "      <td>5550.44</td>\n",
       "      <td>...</td>\n",
       "      <td>-581.91</td>\n",
       "      <td>-984.09</td>\n",
       "      <td>-1230.89</td>\n",
       "      <td>-1600.45</td>\n",
       "      <td>-1824.53</td>\n",
       "      <td>-2061.17</td>\n",
       "      <td>-2265.98</td>\n",
       "      <td>-2366.19</td>\n",
       "      <td>-2294.86</td>\n",
       "      <td>-2034.72</td>\n",
       "    </tr>\n",
       "    <tr>\n",
       "      <th>2</th>\n",
       "      <td>2</td>\n",
       "      <td>844.48</td>\n",
       "      <td>817.49</td>\n",
       "      <td>770.07</td>\n",
       "      <td>675.01</td>\n",
       "      <td>605.52</td>\n",
       "      <td>499.45</td>\n",
       "      <td>440.77</td>\n",
       "      <td>362.95</td>\n",
       "      <td>207.27</td>\n",
       "      <td>...</td>\n",
       "      <td>17.82</td>\n",
       "      <td>-51.66</td>\n",
       "      <td>-48.29</td>\n",
       "      <td>-59.99</td>\n",
       "      <td>-82.10</td>\n",
       "      <td>-174.54</td>\n",
       "      <td>-95.23</td>\n",
       "      <td>-162.68</td>\n",
       "      <td>-36.79</td>\n",
       "      <td>30.63</td>\n",
       "    </tr>\n",
       "    <tr>\n",
       "      <th>3</th>\n",
       "      <td>2</td>\n",
       "      <td>-826.00</td>\n",
       "      <td>-827.31</td>\n",
       "      <td>-846.12</td>\n",
       "      <td>-836.03</td>\n",
       "      <td>-745.50</td>\n",
       "      <td>-784.69</td>\n",
       "      <td>-791.22</td>\n",
       "      <td>-746.50</td>\n",
       "      <td>-709.53</td>\n",
       "      <td>...</td>\n",
       "      <td>122.34</td>\n",
       "      <td>93.03</td>\n",
       "      <td>93.03</td>\n",
       "      <td>68.81</td>\n",
       "      <td>9.81</td>\n",
       "      <td>20.75</td>\n",
       "      <td>20.25</td>\n",
       "      <td>-120.81</td>\n",
       "      <td>-257.56</td>\n",
       "      <td>-215.41</td>\n",
       "    </tr>\n",
       "    <tr>\n",
       "      <th>4</th>\n",
       "      <td>2</td>\n",
       "      <td>-39.57</td>\n",
       "      <td>-15.88</td>\n",
       "      <td>-9.16</td>\n",
       "      <td>-6.37</td>\n",
       "      <td>-16.13</td>\n",
       "      <td>-24.05</td>\n",
       "      <td>-0.90</td>\n",
       "      <td>-45.20</td>\n",
       "      <td>-5.04</td>\n",
       "      <td>...</td>\n",
       "      <td>-37.87</td>\n",
       "      <td>-61.85</td>\n",
       "      <td>-27.15</td>\n",
       "      <td>-21.18</td>\n",
       "      <td>-33.76</td>\n",
       "      <td>-85.34</td>\n",
       "      <td>-81.46</td>\n",
       "      <td>-61.98</td>\n",
       "      <td>-69.34</td>\n",
       "      <td>-17.84</td>\n",
       "    </tr>\n",
       "  </tbody>\n",
       "</table>\n",
       "<p>5 rows × 3198 columns</p>\n",
       "</div>"
      ],
      "text/plain": [
       "   LABEL   FLUX.1   FLUX.2   FLUX.3   FLUX.4   FLUX.5   FLUX.6   FLUX.7  \\\n",
       "0      2   119.88   100.21    86.46    48.68    46.12    39.39    18.57   \n",
       "1      2  5736.59  5699.98  5717.16  5692.73  5663.83  5631.16  5626.39   \n",
       "2      2   844.48   817.49   770.07   675.01   605.52   499.45   440.77   \n",
       "3      2  -826.00  -827.31  -846.12  -836.03  -745.50  -784.69  -791.22   \n",
       "4      2   -39.57   -15.88    -9.16    -6.37   -16.13   -24.05    -0.90   \n",
       "\n",
       "    FLUX.8   FLUX.9  ...  FLUX.3188  FLUX.3189  FLUX.3190  FLUX.3191  \\\n",
       "0     6.98     6.63  ...      14.52      19.29      14.44      -1.62   \n",
       "1  5569.47  5550.44  ...    -581.91    -984.09   -1230.89   -1600.45   \n",
       "2   362.95   207.27  ...      17.82     -51.66     -48.29     -59.99   \n",
       "3  -746.50  -709.53  ...     122.34      93.03      93.03      68.81   \n",
       "4   -45.20    -5.04  ...     -37.87     -61.85     -27.15     -21.18   \n",
       "\n",
       "   FLUX.3192  FLUX.3193  FLUX.3194  FLUX.3195  FLUX.3196  FLUX.3197  \n",
       "0      13.33      45.50      31.93      35.78     269.43      57.72  \n",
       "1   -1824.53   -2061.17   -2265.98   -2366.19   -2294.86   -2034.72  \n",
       "2     -82.10    -174.54     -95.23    -162.68     -36.79      30.63  \n",
       "3       9.81      20.75      20.25    -120.81    -257.56    -215.41  \n",
       "4     -33.76     -85.34     -81.46     -61.98     -69.34     -17.84  \n",
       "\n",
       "[5 rows x 3198 columns]"
      ]
     },
     "execution_count": 57,
     "metadata": {},
     "output_type": "execute_result"
    }
   ],
   "source": [
    "valdf.head()"
   ]
  },
  {
   "cell_type": "code",
   "execution_count": 59,
   "id": "421c03ea",
   "metadata": {},
   "outputs": [
    {
     "data": {
      "text/html": [
       "<div>\n",
       "<style scoped>\n",
       "    .dataframe tbody tr th:only-of-type {\n",
       "        vertical-align: middle;\n",
       "    }\n",
       "\n",
       "    .dataframe tbody tr th {\n",
       "        vertical-align: top;\n",
       "    }\n",
       "\n",
       "    .dataframe thead th {\n",
       "        text-align: right;\n",
       "    }\n",
       "</style>\n",
       "<table border=\"1\" class=\"dataframe\">\n",
       "  <thead>\n",
       "    <tr style=\"text-align: right;\">\n",
       "      <th></th>\n",
       "      <th>LABEL</th>\n",
       "      <th>FLUX.1</th>\n",
       "      <th>FLUX.2</th>\n",
       "      <th>FLUX.3</th>\n",
       "      <th>FLUX.4</th>\n",
       "      <th>FLUX.5</th>\n",
       "      <th>FLUX.6</th>\n",
       "      <th>FLUX.7</th>\n",
       "      <th>FLUX.8</th>\n",
       "      <th>FLUX.9</th>\n",
       "      <th>...</th>\n",
       "      <th>FLUX.3188</th>\n",
       "      <th>FLUX.3189</th>\n",
       "      <th>FLUX.3190</th>\n",
       "      <th>FLUX.3191</th>\n",
       "      <th>FLUX.3192</th>\n",
       "      <th>FLUX.3193</th>\n",
       "      <th>FLUX.3194</th>\n",
       "      <th>FLUX.3195</th>\n",
       "      <th>FLUX.3196</th>\n",
       "      <th>FLUX.3197</th>\n",
       "    </tr>\n",
       "  </thead>\n",
       "  <tbody>\n",
       "    <tr>\n",
       "      <th>565</th>\n",
       "      <td>1</td>\n",
       "      <td>374.46</td>\n",
       "      <td>326.06</td>\n",
       "      <td>319.87</td>\n",
       "      <td>338.23</td>\n",
       "      <td>251.54</td>\n",
       "      <td>209.84</td>\n",
       "      <td>186.35</td>\n",
       "      <td>167.46</td>\n",
       "      <td>135.45</td>\n",
       "      <td>...</td>\n",
       "      <td>-123.55</td>\n",
       "      <td>-166.90</td>\n",
       "      <td>-222.44</td>\n",
       "      <td>-209.71</td>\n",
       "      <td>-180.16</td>\n",
       "      <td>-166.83</td>\n",
       "      <td>-235.66</td>\n",
       "      <td>-213.63</td>\n",
       "      <td>-205.99</td>\n",
       "      <td>-194.07</td>\n",
       "    </tr>\n",
       "    <tr>\n",
       "      <th>566</th>\n",
       "      <td>1</td>\n",
       "      <td>-0.36</td>\n",
       "      <td>4.96</td>\n",
       "      <td>6.25</td>\n",
       "      <td>4.20</td>\n",
       "      <td>8.26</td>\n",
       "      <td>-9.53</td>\n",
       "      <td>-10.10</td>\n",
       "      <td>-4.54</td>\n",
       "      <td>-11.55</td>\n",
       "      <td>...</td>\n",
       "      <td>-12.40</td>\n",
       "      <td>-5.99</td>\n",
       "      <td>-17.94</td>\n",
       "      <td>-11.96</td>\n",
       "      <td>-12.11</td>\n",
       "      <td>-13.68</td>\n",
       "      <td>-3.59</td>\n",
       "      <td>-5.32</td>\n",
       "      <td>-10.98</td>\n",
       "      <td>-11.24</td>\n",
       "    </tr>\n",
       "    <tr>\n",
       "      <th>567</th>\n",
       "      <td>1</td>\n",
       "      <td>-54.01</td>\n",
       "      <td>-44.13</td>\n",
       "      <td>-41.23</td>\n",
       "      <td>-42.82</td>\n",
       "      <td>-39.47</td>\n",
       "      <td>-24.88</td>\n",
       "      <td>-31.14</td>\n",
       "      <td>-24.71</td>\n",
       "      <td>-13.12</td>\n",
       "      <td>...</td>\n",
       "      <td>-0.73</td>\n",
       "      <td>-1.64</td>\n",
       "      <td>1.58</td>\n",
       "      <td>-4.82</td>\n",
       "      <td>-11.93</td>\n",
       "      <td>-17.14</td>\n",
       "      <td>-4.25</td>\n",
       "      <td>5.47</td>\n",
       "      <td>14.46</td>\n",
       "      <td>18.70</td>\n",
       "    </tr>\n",
       "    <tr>\n",
       "      <th>568</th>\n",
       "      <td>1</td>\n",
       "      <td>91.36</td>\n",
       "      <td>85.60</td>\n",
       "      <td>48.81</td>\n",
       "      <td>48.69</td>\n",
       "      <td>70.05</td>\n",
       "      <td>22.30</td>\n",
       "      <td>11.63</td>\n",
       "      <td>37.86</td>\n",
       "      <td>28.27</td>\n",
       "      <td>...</td>\n",
       "      <td>2.44</td>\n",
       "      <td>11.53</td>\n",
       "      <td>-16.42</td>\n",
       "      <td>-17.86</td>\n",
       "      <td>21.10</td>\n",
       "      <td>-10.25</td>\n",
       "      <td>-37.06</td>\n",
       "      <td>-8.43</td>\n",
       "      <td>-6.48</td>\n",
       "      <td>17.60</td>\n",
       "    </tr>\n",
       "    <tr>\n",
       "      <th>569</th>\n",
       "      <td>1</td>\n",
       "      <td>3071.19</td>\n",
       "      <td>2782.53</td>\n",
       "      <td>2608.69</td>\n",
       "      <td>2325.47</td>\n",
       "      <td>2089.37</td>\n",
       "      <td>1769.56</td>\n",
       "      <td>1421.09</td>\n",
       "      <td>1142.09</td>\n",
       "      <td>902.31</td>\n",
       "      <td>...</td>\n",
       "      <td>695.41</td>\n",
       "      <td>865.97</td>\n",
       "      <td>882.41</td>\n",
       "      <td>1203.06</td>\n",
       "      <td>1293.03</td>\n",
       "      <td>1354.41</td>\n",
       "      <td>-192.81</td>\n",
       "      <td>-277.22</td>\n",
       "      <td>-69.63</td>\n",
       "      <td>121.56</td>\n",
       "    </tr>\n",
       "  </tbody>\n",
       "</table>\n",
       "<p>5 rows × 3198 columns</p>\n",
       "</div>"
      ],
      "text/plain": [
       "     LABEL   FLUX.1   FLUX.2   FLUX.3   FLUX.4   FLUX.5   FLUX.6   FLUX.7  \\\n",
       "565      1   374.46   326.06   319.87   338.23   251.54   209.84   186.35   \n",
       "566      1    -0.36     4.96     6.25     4.20     8.26    -9.53   -10.10   \n",
       "567      1   -54.01   -44.13   -41.23   -42.82   -39.47   -24.88   -31.14   \n",
       "568      1    91.36    85.60    48.81    48.69    70.05    22.30    11.63   \n",
       "569      1  3071.19  2782.53  2608.69  2325.47  2089.37  1769.56  1421.09   \n",
       "\n",
       "      FLUX.8  FLUX.9  ...  FLUX.3188  FLUX.3189  FLUX.3190  FLUX.3191  \\\n",
       "565   167.46  135.45  ...    -123.55    -166.90    -222.44    -209.71   \n",
       "566    -4.54  -11.55  ...     -12.40      -5.99     -17.94     -11.96   \n",
       "567   -24.71  -13.12  ...      -0.73      -1.64       1.58      -4.82   \n",
       "568    37.86   28.27  ...       2.44      11.53     -16.42     -17.86   \n",
       "569  1142.09  902.31  ...     695.41     865.97     882.41    1203.06   \n",
       "\n",
       "     FLUX.3192  FLUX.3193  FLUX.3194  FLUX.3195  FLUX.3196  FLUX.3197  \n",
       "565    -180.16    -166.83    -235.66    -213.63    -205.99    -194.07  \n",
       "566     -12.11     -13.68      -3.59      -5.32     -10.98     -11.24  \n",
       "567     -11.93     -17.14      -4.25       5.47      14.46      18.70  \n",
       "568      21.10     -10.25     -37.06      -8.43      -6.48      17.60  \n",
       "569    1293.03    1354.41    -192.81    -277.22     -69.63     121.56  \n",
       "\n",
       "[5 rows x 3198 columns]"
      ]
     },
     "execution_count": 59,
     "metadata": {},
     "output_type": "execute_result"
    }
   ],
   "source": [
    "valdf.tail()"
   ]
  },
  {
   "cell_type": "markdown",
   "id": "5c3d2e5d",
   "metadata": {},
   "source": [
    "# Describing the data and finding null values within"
   ]
  },
  {
   "cell_type": "code",
   "execution_count": 9,
   "id": "4726b4ef",
   "metadata": {
    "scrolled": false
   },
   "outputs": [
    {
     "data": {
      "text/html": [
       "<div>\n",
       "<style scoped>\n",
       "    .dataframe tbody tr th:only-of-type {\n",
       "        vertical-align: middle;\n",
       "    }\n",
       "\n",
       "    .dataframe tbody tr th {\n",
       "        vertical-align: top;\n",
       "    }\n",
       "\n",
       "    .dataframe thead th {\n",
       "        text-align: right;\n",
       "    }\n",
       "</style>\n",
       "<table border=\"1\" class=\"dataframe\">\n",
       "  <thead>\n",
       "    <tr style=\"text-align: right;\">\n",
       "      <th></th>\n",
       "      <th>LABEL</th>\n",
       "      <th>FLUX.1</th>\n",
       "      <th>FLUX.2</th>\n",
       "      <th>FLUX.3</th>\n",
       "      <th>FLUX.4</th>\n",
       "      <th>FLUX.5</th>\n",
       "      <th>FLUX.6</th>\n",
       "      <th>FLUX.7</th>\n",
       "      <th>FLUX.8</th>\n",
       "      <th>FLUX.9</th>\n",
       "      <th>...</th>\n",
       "      <th>FLUX.3188</th>\n",
       "      <th>FLUX.3189</th>\n",
       "      <th>FLUX.3190</th>\n",
       "      <th>FLUX.3191</th>\n",
       "      <th>FLUX.3192</th>\n",
       "      <th>FLUX.3193</th>\n",
       "      <th>FLUX.3194</th>\n",
       "      <th>FLUX.3195</th>\n",
       "      <th>FLUX.3196</th>\n",
       "      <th>FLUX.3197</th>\n",
       "    </tr>\n",
       "  </thead>\n",
       "  <tbody>\n",
       "    <tr>\n",
       "      <th>count</th>\n",
       "      <td>5087.000000</td>\n",
       "      <td>5.087000e+03</td>\n",
       "      <td>5.087000e+03</td>\n",
       "      <td>5.087000e+03</td>\n",
       "      <td>5.087000e+03</td>\n",
       "      <td>5.087000e+03</td>\n",
       "      <td>5.087000e+03</td>\n",
       "      <td>5.087000e+03</td>\n",
       "      <td>5.087000e+03</td>\n",
       "      <td>5.087000e+03</td>\n",
       "      <td>...</td>\n",
       "      <td>5.087000e+03</td>\n",
       "      <td>5.087000e+03</td>\n",
       "      <td>5.087000e+03</td>\n",
       "      <td>5.087000e+03</td>\n",
       "      <td>5.087000e+03</td>\n",
       "      <td>5.087000e+03</td>\n",
       "      <td>5087.000000</td>\n",
       "      <td>5087.000000</td>\n",
       "      <td>5087.000000</td>\n",
       "      <td>5087.000000</td>\n",
       "    </tr>\n",
       "    <tr>\n",
       "      <th>mean</th>\n",
       "      <td>1.007273</td>\n",
       "      <td>1.445054e+02</td>\n",
       "      <td>1.285778e+02</td>\n",
       "      <td>1.471348e+02</td>\n",
       "      <td>1.561512e+02</td>\n",
       "      <td>1.561477e+02</td>\n",
       "      <td>1.469646e+02</td>\n",
       "      <td>1.168380e+02</td>\n",
       "      <td>1.144983e+02</td>\n",
       "      <td>1.228639e+02</td>\n",
       "      <td>...</td>\n",
       "      <td>3.485578e+02</td>\n",
       "      <td>4.956476e+02</td>\n",
       "      <td>6.711211e+02</td>\n",
       "      <td>7.468790e+02</td>\n",
       "      <td>6.937372e+02</td>\n",
       "      <td>6.553031e+02</td>\n",
       "      <td>-494.784966</td>\n",
       "      <td>-544.594264</td>\n",
       "      <td>-440.239100</td>\n",
       "      <td>-300.536399</td>\n",
       "    </tr>\n",
       "    <tr>\n",
       "      <th>std</th>\n",
       "      <td>0.084982</td>\n",
       "      <td>2.150669e+04</td>\n",
       "      <td>2.179717e+04</td>\n",
       "      <td>2.191309e+04</td>\n",
       "      <td>2.223366e+04</td>\n",
       "      <td>2.308448e+04</td>\n",
       "      <td>2.410567e+04</td>\n",
       "      <td>2.414109e+04</td>\n",
       "      <td>2.290691e+04</td>\n",
       "      <td>2.102681e+04</td>\n",
       "      <td>...</td>\n",
       "      <td>2.864786e+04</td>\n",
       "      <td>3.551876e+04</td>\n",
       "      <td>4.349963e+04</td>\n",
       "      <td>4.981375e+04</td>\n",
       "      <td>5.087103e+04</td>\n",
       "      <td>5.339979e+04</td>\n",
       "      <td>17844.469520</td>\n",
       "      <td>17722.339334</td>\n",
       "      <td>16273.406292</td>\n",
       "      <td>14459.795577</td>\n",
       "    </tr>\n",
       "    <tr>\n",
       "      <th>min</th>\n",
       "      <td>1.000000</td>\n",
       "      <td>-2.278563e+05</td>\n",
       "      <td>-3.154408e+05</td>\n",
       "      <td>-2.840018e+05</td>\n",
       "      <td>-2.340069e+05</td>\n",
       "      <td>-4.231956e+05</td>\n",
       "      <td>-5.975521e+05</td>\n",
       "      <td>-6.724046e+05</td>\n",
       "      <td>-5.790136e+05</td>\n",
       "      <td>-3.973882e+05</td>\n",
       "      <td>...</td>\n",
       "      <td>-3.240480e+05</td>\n",
       "      <td>-3.045540e+05</td>\n",
       "      <td>-2.933140e+05</td>\n",
       "      <td>-2.838420e+05</td>\n",
       "      <td>-3.288214e+05</td>\n",
       "      <td>-5.028894e+05</td>\n",
       "      <td>-775322.000000</td>\n",
       "      <td>-732006.000000</td>\n",
       "      <td>-700992.000000</td>\n",
       "      <td>-643170.000000</td>\n",
       "    </tr>\n",
       "    <tr>\n",
       "      <th>25%</th>\n",
       "      <td>1.000000</td>\n",
       "      <td>-4.234000e+01</td>\n",
       "      <td>-3.952000e+01</td>\n",
       "      <td>-3.850500e+01</td>\n",
       "      <td>-3.505000e+01</td>\n",
       "      <td>-3.195500e+01</td>\n",
       "      <td>-3.338000e+01</td>\n",
       "      <td>-2.813000e+01</td>\n",
       "      <td>-2.784000e+01</td>\n",
       "      <td>-2.683500e+01</td>\n",
       "      <td>...</td>\n",
       "      <td>-1.760000e+01</td>\n",
       "      <td>-1.948500e+01</td>\n",
       "      <td>-1.757000e+01</td>\n",
       "      <td>-2.076000e+01</td>\n",
       "      <td>-2.226000e+01</td>\n",
       "      <td>-2.440500e+01</td>\n",
       "      <td>-26.760000</td>\n",
       "      <td>-24.065000</td>\n",
       "      <td>-21.135000</td>\n",
       "      <td>-19.820000</td>\n",
       "    </tr>\n",
       "    <tr>\n",
       "      <th>50%</th>\n",
       "      <td>1.000000</td>\n",
       "      <td>-7.100000e-01</td>\n",
       "      <td>-8.900000e-01</td>\n",
       "      <td>-7.400000e-01</td>\n",
       "      <td>-4.000000e-01</td>\n",
       "      <td>-6.100000e-01</td>\n",
       "      <td>-1.030000e+00</td>\n",
       "      <td>-8.700000e-01</td>\n",
       "      <td>-6.600000e-01</td>\n",
       "      <td>-5.600000e-01</td>\n",
       "      <td>...</td>\n",
       "      <td>2.600000e+00</td>\n",
       "      <td>2.680000e+00</td>\n",
       "      <td>3.050000e+00</td>\n",
       "      <td>3.590000e+00</td>\n",
       "      <td>3.230000e+00</td>\n",
       "      <td>3.500000e+00</td>\n",
       "      <td>-0.680000</td>\n",
       "      <td>0.360000</td>\n",
       "      <td>0.900000</td>\n",
       "      <td>1.430000</td>\n",
       "    </tr>\n",
       "    <tr>\n",
       "      <th>75%</th>\n",
       "      <td>1.000000</td>\n",
       "      <td>4.825500e+01</td>\n",
       "      <td>4.428500e+01</td>\n",
       "      <td>4.232500e+01</td>\n",
       "      <td>3.976500e+01</td>\n",
       "      <td>3.975000e+01</td>\n",
       "      <td>3.514000e+01</td>\n",
       "      <td>3.406000e+01</td>\n",
       "      <td>3.170000e+01</td>\n",
       "      <td>3.045500e+01</td>\n",
       "      <td>...</td>\n",
       "      <td>2.211000e+01</td>\n",
       "      <td>2.235000e+01</td>\n",
       "      <td>2.639500e+01</td>\n",
       "      <td>2.909000e+01</td>\n",
       "      <td>2.780000e+01</td>\n",
       "      <td>3.085500e+01</td>\n",
       "      <td>18.175000</td>\n",
       "      <td>18.770000</td>\n",
       "      <td>19.465000</td>\n",
       "      <td>20.280000</td>\n",
       "    </tr>\n",
       "    <tr>\n",
       "      <th>max</th>\n",
       "      <td>2.000000</td>\n",
       "      <td>1.439240e+06</td>\n",
       "      <td>1.453319e+06</td>\n",
       "      <td>1.468429e+06</td>\n",
       "      <td>1.495750e+06</td>\n",
       "      <td>1.510937e+06</td>\n",
       "      <td>1.508152e+06</td>\n",
       "      <td>1.465743e+06</td>\n",
       "      <td>1.416827e+06</td>\n",
       "      <td>1.342888e+06</td>\n",
       "      <td>...</td>\n",
       "      <td>1.779338e+06</td>\n",
       "      <td>2.379227e+06</td>\n",
       "      <td>2.992070e+06</td>\n",
       "      <td>3.434973e+06</td>\n",
       "      <td>3.481220e+06</td>\n",
       "      <td>3.616292e+06</td>\n",
       "      <td>288607.500000</td>\n",
       "      <td>215972.000000</td>\n",
       "      <td>207590.000000</td>\n",
       "      <td>211302.000000</td>\n",
       "    </tr>\n",
       "  </tbody>\n",
       "</table>\n",
       "<p>8 rows × 3198 columns</p>\n",
       "</div>"
      ],
      "text/plain": [
       "             LABEL        FLUX.1        FLUX.2        FLUX.3        FLUX.4  \\\n",
       "count  5087.000000  5.087000e+03  5.087000e+03  5.087000e+03  5.087000e+03   \n",
       "mean      1.007273  1.445054e+02  1.285778e+02  1.471348e+02  1.561512e+02   \n",
       "std       0.084982  2.150669e+04  2.179717e+04  2.191309e+04  2.223366e+04   \n",
       "min       1.000000 -2.278563e+05 -3.154408e+05 -2.840018e+05 -2.340069e+05   \n",
       "25%       1.000000 -4.234000e+01 -3.952000e+01 -3.850500e+01 -3.505000e+01   \n",
       "50%       1.000000 -7.100000e-01 -8.900000e-01 -7.400000e-01 -4.000000e-01   \n",
       "75%       1.000000  4.825500e+01  4.428500e+01  4.232500e+01  3.976500e+01   \n",
       "max       2.000000  1.439240e+06  1.453319e+06  1.468429e+06  1.495750e+06   \n",
       "\n",
       "             FLUX.5        FLUX.6        FLUX.7        FLUX.8        FLUX.9  \\\n",
       "count  5.087000e+03  5.087000e+03  5.087000e+03  5.087000e+03  5.087000e+03   \n",
       "mean   1.561477e+02  1.469646e+02  1.168380e+02  1.144983e+02  1.228639e+02   \n",
       "std    2.308448e+04  2.410567e+04  2.414109e+04  2.290691e+04  2.102681e+04   \n",
       "min   -4.231956e+05 -5.975521e+05 -6.724046e+05 -5.790136e+05 -3.973882e+05   \n",
       "25%   -3.195500e+01 -3.338000e+01 -2.813000e+01 -2.784000e+01 -2.683500e+01   \n",
       "50%   -6.100000e-01 -1.030000e+00 -8.700000e-01 -6.600000e-01 -5.600000e-01   \n",
       "75%    3.975000e+01  3.514000e+01  3.406000e+01  3.170000e+01  3.045500e+01   \n",
       "max    1.510937e+06  1.508152e+06  1.465743e+06  1.416827e+06  1.342888e+06   \n",
       "\n",
       "       ...     FLUX.3188     FLUX.3189     FLUX.3190     FLUX.3191  \\\n",
       "count  ...  5.087000e+03  5.087000e+03  5.087000e+03  5.087000e+03   \n",
       "mean   ...  3.485578e+02  4.956476e+02  6.711211e+02  7.468790e+02   \n",
       "std    ...  2.864786e+04  3.551876e+04  4.349963e+04  4.981375e+04   \n",
       "min    ... -3.240480e+05 -3.045540e+05 -2.933140e+05 -2.838420e+05   \n",
       "25%    ... -1.760000e+01 -1.948500e+01 -1.757000e+01 -2.076000e+01   \n",
       "50%    ...  2.600000e+00  2.680000e+00  3.050000e+00  3.590000e+00   \n",
       "75%    ...  2.211000e+01  2.235000e+01  2.639500e+01  2.909000e+01   \n",
       "max    ...  1.779338e+06  2.379227e+06  2.992070e+06  3.434973e+06   \n",
       "\n",
       "          FLUX.3192     FLUX.3193      FLUX.3194      FLUX.3195  \\\n",
       "count  5.087000e+03  5.087000e+03    5087.000000    5087.000000   \n",
       "mean   6.937372e+02  6.553031e+02    -494.784966    -544.594264   \n",
       "std    5.087103e+04  5.339979e+04   17844.469520   17722.339334   \n",
       "min   -3.288214e+05 -5.028894e+05 -775322.000000 -732006.000000   \n",
       "25%   -2.226000e+01 -2.440500e+01     -26.760000     -24.065000   \n",
       "50%    3.230000e+00  3.500000e+00      -0.680000       0.360000   \n",
       "75%    2.780000e+01  3.085500e+01      18.175000      18.770000   \n",
       "max    3.481220e+06  3.616292e+06  288607.500000  215972.000000   \n",
       "\n",
       "           FLUX.3196      FLUX.3197  \n",
       "count    5087.000000    5087.000000  \n",
       "mean     -440.239100    -300.536399  \n",
       "std     16273.406292   14459.795577  \n",
       "min   -700992.000000 -643170.000000  \n",
       "25%       -21.135000     -19.820000  \n",
       "50%         0.900000       1.430000  \n",
       "75%        19.465000      20.280000  \n",
       "max    207590.000000  211302.000000  \n",
       "\n",
       "[8 rows x 3198 columns]"
      ]
     },
     "execution_count": 9,
     "metadata": {},
     "output_type": "execute_result"
    }
   ],
   "source": [
    "traindf.describe()"
   ]
  },
  {
   "cell_type": "code",
   "execution_count": 10,
   "id": "d86336f1",
   "metadata": {},
   "outputs": [
    {
     "data": {
      "text/html": [
       "<div>\n",
       "<style scoped>\n",
       "    .dataframe tbody tr th:only-of-type {\n",
       "        vertical-align: middle;\n",
       "    }\n",
       "\n",
       "    .dataframe tbody tr th {\n",
       "        vertical-align: top;\n",
       "    }\n",
       "\n",
       "    .dataframe thead th {\n",
       "        text-align: right;\n",
       "    }\n",
       "</style>\n",
       "<table border=\"1\" class=\"dataframe\">\n",
       "  <thead>\n",
       "    <tr style=\"text-align: right;\">\n",
       "      <th></th>\n",
       "      <th>LABEL</th>\n",
       "      <th>FLUX.1</th>\n",
       "      <th>FLUX.2</th>\n",
       "      <th>FLUX.3</th>\n",
       "      <th>FLUX.4</th>\n",
       "      <th>FLUX.5</th>\n",
       "      <th>FLUX.6</th>\n",
       "      <th>FLUX.7</th>\n",
       "      <th>FLUX.8</th>\n",
       "      <th>FLUX.9</th>\n",
       "      <th>...</th>\n",
       "      <th>FLUX.3188</th>\n",
       "      <th>FLUX.3189</th>\n",
       "      <th>FLUX.3190</th>\n",
       "      <th>FLUX.3191</th>\n",
       "      <th>FLUX.3192</th>\n",
       "      <th>FLUX.3193</th>\n",
       "      <th>FLUX.3194</th>\n",
       "      <th>FLUX.3195</th>\n",
       "      <th>FLUX.3196</th>\n",
       "      <th>FLUX.3197</th>\n",
       "    </tr>\n",
       "  </thead>\n",
       "  <tbody>\n",
       "    <tr>\n",
       "      <th>count</th>\n",
       "      <td>570.000000</td>\n",
       "      <td>570.000000</td>\n",
       "      <td>570.000000</td>\n",
       "      <td>570.000000</td>\n",
       "      <td>570.000000</td>\n",
       "      <td>570.000000</td>\n",
       "      <td>570.000000</td>\n",
       "      <td>570.000000</td>\n",
       "      <td>570.000000</td>\n",
       "      <td>570.000000</td>\n",
       "      <td>...</td>\n",
       "      <td>570.000000</td>\n",
       "      <td>570.000000</td>\n",
       "      <td>570.000000</td>\n",
       "      <td>570.000000</td>\n",
       "      <td>570.000000</td>\n",
       "      <td>570.000000</td>\n",
       "      <td>570.000000</td>\n",
       "      <td>570.000000</td>\n",
       "      <td>570.000000</td>\n",
       "      <td>570.000000</td>\n",
       "    </tr>\n",
       "    <tr>\n",
       "      <th>mean</th>\n",
       "      <td>1.008772</td>\n",
       "      <td>515.411351</td>\n",
       "      <td>738.046404</td>\n",
       "      <td>532.603246</td>\n",
       "      <td>739.618088</td>\n",
       "      <td>530.949807</td>\n",
       "      <td>729.591491</td>\n",
       "      <td>517.421404</td>\n",
       "      <td>720.723544</td>\n",
       "      <td>481.015211</td>\n",
       "      <td>...</td>\n",
       "      <td>60.027754</td>\n",
       "      <td>307.682825</td>\n",
       "      <td>88.976842</td>\n",
       "      <td>301.299895</td>\n",
       "      <td>105.121684</td>\n",
       "      <td>291.509561</td>\n",
       "      <td>256.656789</td>\n",
       "      <td>121.810035</td>\n",
       "      <td>224.806035</td>\n",
       "      <td>133.954544</td>\n",
       "    </tr>\n",
       "    <tr>\n",
       "      <th>std</th>\n",
       "      <td>0.093329</td>\n",
       "      <td>12592.950138</td>\n",
       "      <td>12622.940170</td>\n",
       "      <td>12545.065255</td>\n",
       "      <td>12591.933126</td>\n",
       "      <td>12512.976544</td>\n",
       "      <td>12572.187328</td>\n",
       "      <td>12454.094432</td>\n",
       "      <td>12525.496793</td>\n",
       "      <td>12397.610716</td>\n",
       "      <td>...</td>\n",
       "      <td>9528.594808</td>\n",
       "      <td>9588.586341</td>\n",
       "      <td>9497.373179</td>\n",
       "      <td>9611.024800</td>\n",
       "      <td>9611.076529</td>\n",
       "      <td>9654.581767</td>\n",
       "      <td>9362.719825</td>\n",
       "      <td>9487.642217</td>\n",
       "      <td>9483.948248</td>\n",
       "      <td>9700.731923</td>\n",
       "    </tr>\n",
       "    <tr>\n",
       "      <th>min</th>\n",
       "      <td>1.000000</td>\n",
       "      <td>-59421.000000</td>\n",
       "      <td>-14663.430000</td>\n",
       "      <td>-56580.000000</td>\n",
       "      <td>-10817.590000</td>\n",
       "      <td>-54545.000000</td>\n",
       "      <td>-7744.500000</td>\n",
       "      <td>-53580.000000</td>\n",
       "      <td>-6373.400000</td>\n",
       "      <td>-53832.000000</td>\n",
       "      <td>...</td>\n",
       "      <td>-89126.500000</td>\n",
       "      <td>-89432.070000</td>\n",
       "      <td>-89759.940000</td>\n",
       "      <td>-90182.630000</td>\n",
       "      <td>-90225.760000</td>\n",
       "      <td>-90595.000000</td>\n",
       "      <td>-86719.070000</td>\n",
       "      <td>-86911.500000</td>\n",
       "      <td>-87123.260000</td>\n",
       "      <td>-87476.940000</td>\n",
       "    </tr>\n",
       "    <tr>\n",
       "      <th>25%</th>\n",
       "      <td>1.000000</td>\n",
       "      <td>-22.230000</td>\n",
       "      <td>-22.912500</td>\n",
       "      <td>-22.985000</td>\n",
       "      <td>-18.662500</td>\n",
       "      <td>-20.980000</td>\n",
       "      <td>-21.245000</td>\n",
       "      <td>-22.675000</td>\n",
       "      <td>-22.200000</td>\n",
       "      <td>-22.685000</td>\n",
       "      <td>...</td>\n",
       "      <td>-9.602500</td>\n",
       "      <td>-12.842500</td>\n",
       "      <td>-15.222500</td>\n",
       "      <td>-14.350000</td>\n",
       "      <td>-17.370000</td>\n",
       "      <td>-18.272500</td>\n",
       "      <td>-24.000000</td>\n",
       "      <td>-27.360000</td>\n",
       "      <td>-36.855000</td>\n",
       "      <td>-29.475000</td>\n",
       "    </tr>\n",
       "    <tr>\n",
       "      <th>50%</th>\n",
       "      <td>1.000000</td>\n",
       "      <td>1.195000</td>\n",
       "      <td>0.410000</td>\n",
       "      <td>-1.125000</td>\n",
       "      <td>-0.880000</td>\n",
       "      <td>-1.495000</td>\n",
       "      <td>-2.650000</td>\n",
       "      <td>-4.330000</td>\n",
       "      <td>-3.910000</td>\n",
       "      <td>-3.890000</td>\n",
       "      <td>...</td>\n",
       "      <td>3.585000</td>\n",
       "      <td>3.795000</td>\n",
       "      <td>4.785000</td>\n",
       "      <td>3.910000</td>\n",
       "      <td>5.575000</td>\n",
       "      <td>7.150000</td>\n",
       "      <td>-4.385000</td>\n",
       "      <td>-4.995000</td>\n",
       "      <td>-5.135000</td>\n",
       "      <td>-3.785000</td>\n",
       "    </tr>\n",
       "    <tr>\n",
       "      <th>75%</th>\n",
       "      <td>1.000000</td>\n",
       "      <td>98.317500</td>\n",
       "      <td>89.710000</td>\n",
       "      <td>89.827500</td>\n",
       "      <td>73.257500</td>\n",
       "      <td>66.947500</td>\n",
       "      <td>45.147500</td>\n",
       "      <td>38.850000</td>\n",
       "      <td>37.150000</td>\n",
       "      <td>30.670000</td>\n",
       "      <td>...</td>\n",
       "      <td>23.445000</td>\n",
       "      <td>20.472500</td>\n",
       "      <td>25.582500</td>\n",
       "      <td>28.767500</td>\n",
       "      <td>27.455000</td>\n",
       "      <td>35.810000</td>\n",
       "      <td>17.755000</td>\n",
       "      <td>11.745000</td>\n",
       "      <td>12.265000</td>\n",
       "      <td>13.205000</td>\n",
       "    </tr>\n",
       "    <tr>\n",
       "      <th>max</th>\n",
       "      <td>2.000000</td>\n",
       "      <td>290882.500000</td>\n",
       "      <td>290653.500000</td>\n",
       "      <td>290554.000000</td>\n",
       "      <td>290486.500000</td>\n",
       "      <td>290289.000000</td>\n",
       "      <td>289982.500000</td>\n",
       "      <td>289197.500000</td>\n",
       "      <td>288520.500000</td>\n",
       "      <td>287404.500000</td>\n",
       "      <td>...</td>\n",
       "      <td>198420.000000</td>\n",
       "      <td>197888.500000</td>\n",
       "      <td>199639.000000</td>\n",
       "      <td>202007.000000</td>\n",
       "      <td>203730.500000</td>\n",
       "      <td>205924.000000</td>\n",
       "      <td>203193.000000</td>\n",
       "      <td>205050.000000</td>\n",
       "      <td>206884.500000</td>\n",
       "      <td>211488.500000</td>\n",
       "    </tr>\n",
       "  </tbody>\n",
       "</table>\n",
       "<p>8 rows × 3198 columns</p>\n",
       "</div>"
      ],
      "text/plain": [
       "            LABEL         FLUX.1         FLUX.2         FLUX.3         FLUX.4  \\\n",
       "count  570.000000     570.000000     570.000000     570.000000     570.000000   \n",
       "mean     1.008772     515.411351     738.046404     532.603246     739.618088   \n",
       "std      0.093329   12592.950138   12622.940170   12545.065255   12591.933126   \n",
       "min      1.000000  -59421.000000  -14663.430000  -56580.000000  -10817.590000   \n",
       "25%      1.000000     -22.230000     -22.912500     -22.985000     -18.662500   \n",
       "50%      1.000000       1.195000       0.410000      -1.125000      -0.880000   \n",
       "75%      1.000000      98.317500      89.710000      89.827500      73.257500   \n",
       "max      2.000000  290882.500000  290653.500000  290554.000000  290486.500000   \n",
       "\n",
       "              FLUX.5         FLUX.6         FLUX.7         FLUX.8  \\\n",
       "count     570.000000     570.000000     570.000000     570.000000   \n",
       "mean      530.949807     729.591491     517.421404     720.723544   \n",
       "std     12512.976544   12572.187328   12454.094432   12525.496793   \n",
       "min    -54545.000000   -7744.500000  -53580.000000   -6373.400000   \n",
       "25%       -20.980000     -21.245000     -22.675000     -22.200000   \n",
       "50%        -1.495000      -2.650000      -4.330000      -3.910000   \n",
       "75%        66.947500      45.147500      38.850000      37.150000   \n",
       "max    290289.000000  289982.500000  289197.500000  288520.500000   \n",
       "\n",
       "              FLUX.9  ...      FLUX.3188      FLUX.3189      FLUX.3190  \\\n",
       "count     570.000000  ...     570.000000     570.000000     570.000000   \n",
       "mean      481.015211  ...      60.027754     307.682825      88.976842   \n",
       "std     12397.610716  ...    9528.594808    9588.586341    9497.373179   \n",
       "min    -53832.000000  ...  -89126.500000  -89432.070000  -89759.940000   \n",
       "25%       -22.685000  ...      -9.602500     -12.842500     -15.222500   \n",
       "50%        -3.890000  ...       3.585000       3.795000       4.785000   \n",
       "75%        30.670000  ...      23.445000      20.472500      25.582500   \n",
       "max    287404.500000  ...  198420.000000  197888.500000  199639.000000   \n",
       "\n",
       "           FLUX.3191      FLUX.3192      FLUX.3193      FLUX.3194  \\\n",
       "count     570.000000     570.000000     570.000000     570.000000   \n",
       "mean      301.299895     105.121684     291.509561     256.656789   \n",
       "std      9611.024800    9611.076529    9654.581767    9362.719825   \n",
       "min    -90182.630000  -90225.760000  -90595.000000  -86719.070000   \n",
       "25%       -14.350000     -17.370000     -18.272500     -24.000000   \n",
       "50%         3.910000       5.575000       7.150000      -4.385000   \n",
       "75%        28.767500      27.455000      35.810000      17.755000   \n",
       "max    202007.000000  203730.500000  205924.000000  203193.000000   \n",
       "\n",
       "           FLUX.3195      FLUX.3196      FLUX.3197  \n",
       "count     570.000000     570.000000     570.000000  \n",
       "mean      121.810035     224.806035     133.954544  \n",
       "std      9487.642217    9483.948248    9700.731923  \n",
       "min    -86911.500000  -87123.260000  -87476.940000  \n",
       "25%       -27.360000     -36.855000     -29.475000  \n",
       "50%        -4.995000      -5.135000      -3.785000  \n",
       "75%        11.745000      12.265000      13.205000  \n",
       "max    205050.000000  206884.500000  211488.500000  \n",
       "\n",
       "[8 rows x 3198 columns]"
      ]
     },
     "execution_count": 10,
     "metadata": {},
     "output_type": "execute_result"
    }
   ],
   "source": [
    "valdf.describe()"
   ]
  },
  {
   "cell_type": "code",
   "execution_count": 11,
   "id": "2b7b1fb4",
   "metadata": {},
   "outputs": [
    {
     "data": {
      "text/plain": [
       "LABEL        0\n",
       "FLUX.1       0\n",
       "FLUX.2       0\n",
       "FLUX.3       0\n",
       "FLUX.4       0\n",
       "            ..\n",
       "FLUX.3193    0\n",
       "FLUX.3194    0\n",
       "FLUX.3195    0\n",
       "FLUX.3196    0\n",
       "FLUX.3197    0\n",
       "Length: 3198, dtype: int64"
      ]
     },
     "execution_count": 11,
     "metadata": {},
     "output_type": "execute_result"
    }
   ],
   "source": [
    "traindf.isnull().sum()"
   ]
  },
  {
   "cell_type": "code",
   "execution_count": 12,
   "id": "0206de77",
   "metadata": {},
   "outputs": [
    {
     "data": {
      "text/plain": [
       "LABEL        0\n",
       "FLUX.1       0\n",
       "FLUX.2       0\n",
       "FLUX.3       0\n",
       "FLUX.4       0\n",
       "            ..\n",
       "FLUX.3193    0\n",
       "FLUX.3194    0\n",
       "FLUX.3195    0\n",
       "FLUX.3196    0\n",
       "FLUX.3197    0\n",
       "Length: 3198, dtype: int64"
      ]
     },
     "execution_count": 12,
     "metadata": {},
     "output_type": "execute_result"
    }
   ],
   "source": [
    "valdf.isnull().sum()"
   ]
  },
  {
   "cell_type": "markdown",
   "id": "a0968514",
   "metadata": {},
   "source": [
    "# Now we differentiate between label 2 and label 1 which namely are the stars with an exoplanet and stars without an expolanet respectively."
   ]
  },
  {
   "cell_type": "code",
   "execution_count": 61,
   "id": "ceaba4bb",
   "metadata": {
    "scrolled": true
   },
   "outputs": [
    {
     "data": {
      "image/png": "[encoded data removed]",
      "text/plain": [
       "<Figure size 1500x4000 with 13 Axes>"
      ]
     },
     "metadata": {},
     "output_type": "display_data"
    }
   ],
   "source": [
    "fig = plt.figure(figsize=(15,40))\n",
    "plt.title('Stars with Exoplanets')\n",
    "for i in range(12):\n",
    "    ax = fig.add_subplot(14,4,i+1)\n",
    "    traindf[traindf['LABEL']==2].iloc[i,1:].hist(bins=90)"
   ]
  },
  {
   "cell_type": "code",
   "execution_count": 14,
   "id": "e1cbf96f",
   "metadata": {
    "scrolled": true
   },
   "outputs": [
    {
     "data": {
      "image/png": "[encoded data removed]",
      "text/plain": [
       "<Figure size 1500x4000 with 13 Axes>"
      ]
     },
     "metadata": {},
     "output_type": "display_data"
    }
   ],
   "source": [
    "fig = plt.figure(figsize=(15,40))\n",
    "plt.title('Stars without Exoplanets')\n",
    "for i in range(12):\n",
    "    ax = fig.add_subplot(14,4,i+1)\n",
    "    traindf[traindf['LABEL']==1].iloc[i,1:].hist(bins=40)"
   ]
  },
  {
   "cell_type": "markdown",
   "id": "a8b1b955",
   "metadata": {},
   "source": [
    "# Now we plot minimum and maximum Flux values for each label"
   ]
  },
  {
   "cell_type": "code",
   "execution_count": 15,
   "id": "a18899e5",
   "metadata": {},
   "outputs": [],
   "source": [
    "minima = traindf.iloc[:,1:].min(axis=1)\n",
    "maxima = traindf.iloc[:,1:].max(axis=1)"
   ]
  },
  {
   "cell_type": "code",
   "execution_count": 16,
   "id": "f6a4b0db",
   "metadata": {},
   "outputs": [
    {
     "data": {
      "text/plain": [
       "[<matplotlib.lines.Line2D at 0x1a843f67090>]"
      ]
     },
     "execution_count": 16,
     "metadata": {},
     "output_type": "execute_result"
    },
    {
     "data": {
      "image/png": "[encoded data removed]",
      "text/plain": [
       "<Figure size 2000x500 with 1 Axes>"
      ]
     },
     "metadata": {},
     "output_type": "display_data"
    }
   ],
   "source": [
    "plt.figure(figsize=(20,5))\n",
    "plt.title('Minimum flux')\n",
    "plt.xlabel('Number of stars')\n",
    "plt.ylabel('Minimum Flux values')\n",
    "plt.plot(np.arange(len(minima)),minima)"
   ]
  },
  {
   "cell_type": "code",
   "execution_count": 17,
   "id": "4a56fda1",
   "metadata": {},
   "outputs": [
    {
     "data": {
      "text/plain": [
       "[<matplotlib.lines.Line2D at 0x1a844828090>]"
      ]
     },
     "execution_count": 17,
     "metadata": {},
     "output_type": "execute_result"
    },
    {
     "data": {
      "image/png": "[encoded data removed]",
      "text/plain": [
       "<Figure size 2000x500 with 1 Axes>"
      ]
     },
     "metadata": {},
     "output_type": "display_data"
    }
   ],
   "source": [
    "plt.figure(figsize=(20,5))\n",
    "plt.title('Maximum flux')\n",
    "plt.xlabel('Number of stars')\n",
    "plt.ylabel('Maximum flux values')\n",
    "plt.plot(np.arange(len(maxima)),maxima)"
   ]
  },
  {
   "cell_type": "markdown",
   "id": "04f68941",
   "metadata": {},
   "source": [
    "# Now we create proper training and testing sets by standardizing values  "
   ]
  },
  {
   "cell_type": "code",
   "execution_count": 18,
   "id": "17da66a1",
   "metadata": {},
   "outputs": [],
   "source": [
    "train1 = traindf.drop('LABEL',axis = 1)\n",
    "val1 = valdf.drop('LABEL',axis =1)"
   ]
  },
  {
   "cell_type": "code",
   "execution_count": 19,
   "id": "2e6eb92d",
   "metadata": {},
   "outputs": [
    {
     "data": {
      "text/plain": [
       "(5087, 3197)"
      ]
     },
     "execution_count": 19,
     "metadata": {},
     "output_type": "execute_result"
    }
   ],
   "source": [
    "train1.shape"
   ]
  },
  {
   "cell_type": "code",
   "execution_count": 20,
   "id": "ba49a5e7",
   "metadata": {},
   "outputs": [
    {
     "data": {
      "text/plain": [
       "(570, 3197)"
      ]
     },
     "execution_count": 20,
     "metadata": {},
     "output_type": "execute_result"
    }
   ],
   "source": [
    "val1.shape"
   ]
  },
  {
   "cell_type": "code",
   "execution_count": 21,
   "id": "c8b4be20",
   "metadata": {},
   "outputs": [],
   "source": [
    "train2=traindf['LABEL'].values\n",
    "val2=valdf['LABEL'].values"
   ]
  },
  {
   "cell_type": "code",
   "execution_count": 22,
   "id": "694a4962",
   "metadata": {},
   "outputs": [
    {
     "data": {
      "text/plain": [
       "(5087,)"
      ]
     },
     "execution_count": 22,
     "metadata": {},
     "output_type": "execute_result"
    }
   ],
   "source": [
    "train2.shape"
   ]
  },
  {
   "cell_type": "code",
   "execution_count": 23,
   "id": "89eb77eb",
   "metadata": {},
   "outputs": [
    {
     "data": {
      "text/plain": [
       "(570,)"
      ]
     },
     "execution_count": 23,
     "metadata": {},
     "output_type": "execute_result"
    }
   ],
   "source": [
    "val2.shape"
   ]
  },
  {
   "cell_type": "markdown",
   "id": "fba46030",
   "metadata": {},
   "source": [
    "## Now we code classifier models "
   ]
  },
  {
   "cell_type": "markdown",
   "id": "966ad2e2",
   "metadata": {},
   "source": [
    "# 1) Naive Bayes Classifier :-"
   ]
  },
  {
   "cell_type": "code",
   "execution_count": 62,
   "id": "261b454d",
   "metadata": {},
   "outputs": [
    {
     "data": {
      "text/html": [
       "<style>#sk-container-id-6 {color: black;background-color: white;}#sk-container-id-6 pre{padding: 0;}#sk-container-id-6 div.sk-toggleable {background-color: white;}#sk-container-id-6 label.sk-toggleable__label {cursor: pointer;display: block;width: 100%;margin-bottom: 0;padding: 0.3em;box-sizing: border-box;text-align: center;}#sk-container-id-6 label.sk-toggleable__label-arrow:before {content: \"▸\";float: left;margin-right: 0.25em;color: #696969;}#sk-container-id-6 label.sk-toggleable__label-arrow:hover:before {color: black;}#sk-container-id-6 div.sk-estimator:hover label.sk-toggleable__label-arrow:before {color: black;}#sk-container-id-6 div.sk-toggleable__content {max-height: 0;max-width: 0;overflow: hidden;text-align: left;background-color: #f0f8ff;}#sk-container-id-6 div.sk-toggleable__content pre {margin: 0.2em;color: black;border-radius: 0.25em;background-color: #f0f8ff;}#sk-container-id-6 input.sk-toggleable__control:checked~div.sk-toggleable__content {max-height: 200px;max-width: 100%;overflow: auto;}#sk-container-id-6 input.sk-toggleable__control:checked~label.sk-toggleable__label-arrow:before {content: \"▾\";}#sk-container-id-6 div.sk-estimator input.sk-toggleable__control:checked~label.sk-toggleable__label {background-color: #d4ebff;}#sk-container-id-6 div.sk-label input.sk-toggleable__control:checked~label.sk-toggleable__label {background-color: #d4ebff;}#sk-container-id-6 input.sk-hidden--visually {border: 0;clip: rect(1px 1px 1px 1px);clip: rect(1px, 1px, 1px, 1px);height: 1px;margin: -1px;overflow: hidden;padding: 0;position: absolute;width: 1px;}#sk-container-id-6 div.sk-estimator {font-family: monospace;background-color: #f0f8ff;border: 1px dotted black;border-radius: 0.25em;box-sizing: border-box;margin-bottom: 0.5em;}#sk-container-id-6 div.sk-estimator:hover {background-color: #d4ebff;}#sk-container-id-6 div.sk-parallel-item::after {content: \"\";width: 100%;border-bottom: 1px solid gray;flex-grow: 1;}#sk-container-id-6 div.sk-label:hover label.sk-toggleable__label {background-color: #d4ebff;}#sk-container-id-6 div.sk-serial::before {content: \"\";position: absolute;border-left: 1px solid gray;box-sizing: border-box;top: 0;bottom: 0;left: 50%;z-index: 0;}#sk-container-id-6 div.sk-serial {display: flex;flex-direction: column;align-items: center;background-color: white;padding-right: 0.2em;padding-left: 0.2em;position: relative;}#sk-container-id-6 div.sk-item {position: relative;z-index: 1;}#sk-container-id-6 div.sk-parallel {display: flex;align-items: stretch;justify-content: center;background-color: white;position: relative;}#sk-container-id-6 div.sk-item::before, #sk-container-id-6 div.sk-parallel-item::before {content: \"\";position: absolute;border-left: 1px solid gray;box-sizing: border-box;top: 0;bottom: 0;left: 50%;z-index: -1;}#sk-container-id-6 div.sk-parallel-item {display: flex;flex-direction: column;z-index: 1;position: relative;background-color: white;}#sk-container-id-6 div.sk-parallel-item:first-child::after {align-self: flex-end;width: 50%;}#sk-container-id-6 div.sk-parallel-item:last-child::after {align-self: flex-start;width: 50%;}#sk-container-id-6 div.sk-parallel-item:only-child::after {width: 0;}#sk-container-id-6 div.sk-dashed-wrapped {border: 1px dashed gray;margin: 0 0.4em 0.5em 0.4em;box-sizing: border-box;padding-bottom: 0.4em;background-color: white;}#sk-container-id-6 div.sk-label label {font-family: monospace;font-weight: bold;display: inline-block;line-height: 1.2em;}#sk-container-id-6 div.sk-label-container {text-align: center;}#sk-container-id-6 div.sk-container {/* jupyter's `normalize.less` sets `[hidden] { display: none; }` but bootstrap.min.css set `[hidden] { display: none !important; }` so we also need the `!important` here to be able to override the default hidden behavior on the sphinx rendered scikit-learn.org. See: https://github.com/scikit-learn/scikit-learn/issues/21755 */display: inline-block !important;position: relative;}#sk-container-id-6 div.sk-text-repr-fallback {display: none;}</style><div id=\"sk-container-id-6\" class=\"sk-top-container\"><div class=\"sk-text-repr-fallback\"><pre>GaussianNB()</pre><b>In a Jupyter environment, please rerun this cell to show the HTML representation or trust the notebook. <br />On GitHub, the HTML representation is unable to render, please try loading this page with nbviewer.org.</b></div><div class=\"sk-container\" hidden><div class=\"sk-item\"><div class=\"sk-estimator sk-toggleable\"><input class=\"sk-toggleable__control sk-hidden--visually\" id=\"sk-estimator-id-6\" type=\"checkbox\" checked><label for=\"sk-estimator-id-6\" class=\"sk-toggleable__label sk-toggleable__label-arrow\">GaussianNB</label><div class=\"sk-toggleable__content\"><pre>GaussianNB()</pre></div></div></div></div></div>"
      ],
      "text/plain": [
       "GaussianNB()"
      ]
     },
     "execution_count": 62,
     "metadata": {},
     "output_type": "execute_result"
    }
   ],
   "source": [
    "nb = GaussianNB()\n",
    "nb.fit(train1,train2)"
   ]
  },
  {
   "cell_type": "code",
   "execution_count": 25,
   "id": "f58f39f8",
   "metadata": {},
   "outputs": [],
   "source": [
    "nb_pred = nb.predict(val1)"
   ]
  },
  {
   "cell_type": "code",
   "execution_count": 50,
   "id": "40e13268",
   "metadata": {},
   "outputs": [
    {
     "name": "stdout",
     "output_type": "stream",
     "text": [
      "              precision    recall  f1-score   support\n",
      "\n",
      "           1       1.00      0.02      0.03       565\n",
      "           2       0.01      1.00      0.02         5\n",
      "\n",
      "    accuracy                           0.02       570\n",
      "   macro avg       0.50      0.51      0.02       570\n",
      "weighted avg       0.99      0.02      0.03       570\n",
      "\n"
     ]
    }
   ],
   "source": [
    "print(classification_report(val2,nb_pred))"
   ]
  },
  {
   "cell_type": "code",
   "execution_count": 27,
   "id": "b993d7b4",
   "metadata": {},
   "outputs": [
    {
     "data": {
      "text/plain": [
       "0.02456140350877193"
      ]
     },
     "execution_count": 27,
     "metadata": {},
     "output_type": "execute_result"
    }
   ],
   "source": [
    "accuracy_score(val2,nb_pred)"
   ]
  },
  {
   "cell_type": "code",
   "execution_count": 28,
   "id": "b64beffb",
   "metadata": {
    "scrolled": true
   },
   "outputs": [
    {
     "data": {
      "text/plain": [
       "<sklearn.metrics._plot.confusion_matrix.ConfusionMatrixDisplay at 0x1a845d36fd0>"
      ]
     },
     "execution_count": 28,
     "metadata": {},
     "output_type": "execute_result"
    },
    {
     "data": {
      "image/png": "[encoded data removed]",
      "text/plain": [
       "<Figure size 640x480 with 2 Axes>"
      ]
     },
     "metadata": {},
     "output_type": "display_data"
    }
   ],
   "source": [
    "metrics.ConfusionMatrixDisplay.from_predictions(val2,nb_pred,normalize='all')"
   ]
  },
  {
   "cell_type": "markdown",
   "id": "c2bf8a04",
   "metadata": {},
   "source": [
    "# 2) Logistic Regression :-"
   ]
  },
  {
   "cell_type": "code",
   "execution_count": 29,
   "id": "867edebe",
   "metadata": {
    "collapsed": true
   },
   "outputs": [
    {
     "name": "stderr",
     "output_type": "stream",
     "text": [
      "C:\\Users\\Anirudh\\AppData\\Local\\Programs\\Python\\Python311\\Lib\\site-packages\\sklearn\\linear_model\\_logistic.py:458: ConvergenceWarning: lbfgs failed to converge (status=1):\n",
      "STOP: TOTAL NO. of ITERATIONS REACHED LIMIT.\n",
      "\n",
      "Increase the number of iterations (max_iter) or scale the data as shown in:\n",
      "    https://scikit-learn.org/stable/modules/preprocessing.html\n",
      "Please also refer to the documentation for alternative solver options:\n",
      "    https://scikit-learn.org/stable/modules/linear_model.html#logistic-regression\n",
      "  n_iter_i = _check_optimize_result(\n"
     ]
    },
    {
     "data": {
      "text/html": [
       "<style>#sk-container-id-2 {color: black;background-color: white;}#sk-container-id-2 pre{padding: 0;}#sk-container-id-2 div.sk-toggleable {background-color: white;}#sk-container-id-2 label.sk-toggleable__label {cursor: pointer;display: block;width: 100%;margin-bottom: 0;padding: 0.3em;box-sizing: border-box;text-align: center;}#sk-container-id-2 label.sk-toggleable__label-arrow:before {content: \"▸\";float: left;margin-right: 0.25em;color: #696969;}#sk-container-id-2 label.sk-toggleable__label-arrow:hover:before {color: black;}#sk-container-id-2 div.sk-estimator:hover label.sk-toggleable__label-arrow:before {color: black;}#sk-container-id-2 div.sk-toggleable__content {max-height: 0;max-width: 0;overflow: hidden;text-align: left;background-color: #f0f8ff;}#sk-container-id-2 div.sk-toggleable__content pre {margin: 0.2em;color: black;border-radius: 0.25em;background-color: #f0f8ff;}#sk-container-id-2 input.sk-toggleable__control:checked~div.sk-toggleable__content {max-height: 200px;max-width: 100%;overflow: auto;}#sk-container-id-2 input.sk-toggleable__control:checked~label.sk-toggleable__label-arrow:before {content: \"▾\";}#sk-container-id-2 div.sk-estimator input.sk-toggleable__control:checked~label.sk-toggleable__label {background-color: #d4ebff;}#sk-container-id-2 div.sk-label input.sk-toggleable__control:checked~label.sk-toggleable__label {background-color: #d4ebff;}#sk-container-id-2 input.sk-hidden--visually {border: 0;clip: rect(1px 1px 1px 1px);clip: rect(1px, 1px, 1px, 1px);height: 1px;margin: -1px;overflow: hidden;padding: 0;position: absolute;width: 1px;}#sk-container-id-2 div.sk-estimator {font-family: monospace;background-color: #f0f8ff;border: 1px dotted black;border-radius: 0.25em;box-sizing: border-box;margin-bottom: 0.5em;}#sk-container-id-2 div.sk-estimator:hover {background-color: #d4ebff;}#sk-container-id-2 div.sk-parallel-item::after {content: \"\";width: 100%;border-bottom: 1px solid gray;flex-grow: 1;}#sk-container-id-2 div.sk-label:hover label.sk-toggleable__label {background-color: #d4ebff;}#sk-container-id-2 div.sk-serial::before {content: \"\";position: absolute;border-left: 1px solid gray;box-sizing: border-box;top: 0;bottom: 0;left: 50%;z-index: 0;}#sk-container-id-2 div.sk-serial {display: flex;flex-direction: column;align-items: center;background-color: white;padding-right: 0.2em;padding-left: 0.2em;position: relative;}#sk-container-id-2 div.sk-item {position: relative;z-index: 1;}#sk-container-id-2 div.sk-parallel {display: flex;align-items: stretch;justify-content: center;background-color: white;position: relative;}#sk-container-id-2 div.sk-item::before, #sk-container-id-2 div.sk-parallel-item::before {content: \"\";position: absolute;border-left: 1px solid gray;box-sizing: border-box;top: 0;bottom: 0;left: 50%;z-index: -1;}#sk-container-id-2 div.sk-parallel-item {display: flex;flex-direction: column;z-index: 1;position: relative;background-color: white;}#sk-container-id-2 div.sk-parallel-item:first-child::after {align-self: flex-end;width: 50%;}#sk-container-id-2 div.sk-parallel-item:last-child::after {align-self: flex-start;width: 50%;}#sk-container-id-2 div.sk-parallel-item:only-child::after {width: 0;}#sk-container-id-2 div.sk-dashed-wrapped {border: 1px dashed gray;margin: 0 0.4em 0.5em 0.4em;box-sizing: border-box;padding-bottom: 0.4em;background-color: white;}#sk-container-id-2 div.sk-label label {font-family: monospace;font-weight: bold;display: inline-block;line-height: 1.2em;}#sk-container-id-2 div.sk-label-container {text-align: center;}#sk-container-id-2 div.sk-container {/* jupyter's `normalize.less` sets `[hidden] { display: none; }` but bootstrap.min.css set `[hidden] { display: none !important; }` so we also need the `!important` here to be able to override the default hidden behavior on the sphinx rendered scikit-learn.org. See: https://github.com/scikit-learn/scikit-learn/issues/21755 */display: inline-block !important;position: relative;}#sk-container-id-2 div.sk-text-repr-fallback {display: none;}</style><div id=\"sk-container-id-2\" class=\"sk-top-container\"><div class=\"sk-text-repr-fallback\"><pre>LogisticRegression()</pre><b>In a Jupyter environment, please rerun this cell to show the HTML representation or trust the notebook. <br />On GitHub, the HTML representation is unable to render, please try loading this page with nbviewer.org.</b></div><div class=\"sk-container\" hidden><div class=\"sk-item\"><div class=\"sk-estimator sk-toggleable\"><input class=\"sk-toggleable__control sk-hidden--visually\" id=\"sk-estimator-id-2\" type=\"checkbox\" checked><label for=\"sk-estimator-id-2\" class=\"sk-toggleable__label sk-toggleable__label-arrow\">LogisticRegression</label><div class=\"sk-toggleable__content\"><pre>LogisticRegression()</pre></div></div></div></div></div>"
      ],
      "text/plain": [
       "LogisticRegression()"
      ]
     },
     "execution_count": 29,
     "metadata": {},
     "output_type": "execute_result"
    }
   ],
   "source": [
    "lr = LogisticRegression()\n",
    "lr.fit(train1,train2)"
   ]
  },
  {
   "cell_type": "code",
   "execution_count": 30,
   "id": "870ade74",
   "metadata": {},
   "outputs": [],
   "source": [
    "lr_pred = lr.predict(val1)"
   ]
  },
  {
   "cell_type": "code",
   "execution_count": 31,
   "id": "f58124b1",
   "metadata": {},
   "outputs": [
    {
     "data": {
      "text/plain": [
       "0.5649122807017544"
      ]
     },
     "execution_count": 31,
     "metadata": {},
     "output_type": "execute_result"
    }
   ],
   "source": [
    "accuracy_score(val2,lr_pred)"
   ]
  },
  {
   "cell_type": "code",
   "execution_count": 51,
   "id": "63adf0ea",
   "metadata": {},
   "outputs": [
    {
     "name": "stdout",
     "output_type": "stream",
     "text": [
      "              precision    recall  f1-score   support\n",
      "\n",
      "           1       0.99      0.57      0.72       565\n",
      "           2       0.01      0.40      0.02         5\n",
      "\n",
      "    accuracy                           0.56       570\n",
      "   macro avg       0.50      0.48      0.37       570\n",
      "weighted avg       0.98      0.56      0.71       570\n",
      "\n"
     ]
    }
   ],
   "source": [
    "print(classification_report(val2,lr_pred))"
   ]
  },
  {
   "cell_type": "code",
   "execution_count": 33,
   "id": "15af97ef",
   "metadata": {},
   "outputs": [
    {
     "data": {
      "text/plain": [
       "<sklearn.metrics._plot.confusion_matrix.ConfusionMatrixDisplay at 0x1a843cf9c50>"
      ]
     },
     "execution_count": 33,
     "metadata": {},
     "output_type": "execute_result"
    },
    {
     "data": {
      "image/png": "[encoded data removed]",
      "text/plain": [
       "<Figure size 640x480 with 2 Axes>"
      ]
     },
     "metadata": {},
     "output_type": "display_data"
    }
   ],
   "source": [
    "metrics.ConfusionMatrixDisplay.from_predictions(val2,lr_pred,normalize='all')"
   ]
  },
  {
   "cell_type": "markdown",
   "id": "9f05828b",
   "metadata": {},
   "source": [
    "# 3) SVM Classifier :-"
   ]
  },
  {
   "cell_type": "code",
   "execution_count": 34,
   "id": "592b975e",
   "metadata": {
    "collapsed": true
   },
   "outputs": [
    {
     "name": "stderr",
     "output_type": "stream",
     "text": [
      "C:\\Users\\Anirudh\\AppData\\Local\\Programs\\Python\\Python311\\Lib\\site-packages\\sklearn\\svm\\_base.py:1244: ConvergenceWarning: Liblinear failed to converge, increase the number of iterations.\n",
      "  warnings.warn(\n"
     ]
    },
    {
     "data": {
      "text/html": [
       "<style>#sk-container-id-3 {color: black;background-color: white;}#sk-container-id-3 pre{padding: 0;}#sk-container-id-3 div.sk-toggleable {background-color: white;}#sk-container-id-3 label.sk-toggleable__label {cursor: pointer;display: block;width: 100%;margin-bottom: 0;padding: 0.3em;box-sizing: border-box;text-align: center;}#sk-container-id-3 label.sk-toggleable__label-arrow:before {content: \"▸\";float: left;margin-right: 0.25em;color: #696969;}#sk-container-id-3 label.sk-toggleable__label-arrow:hover:before {color: black;}#sk-container-id-3 div.sk-estimator:hover label.sk-toggleable__label-arrow:before {color: black;}#sk-container-id-3 div.sk-toggleable__content {max-height: 0;max-width: 0;overflow: hidden;text-align: left;background-color: #f0f8ff;}#sk-container-id-3 div.sk-toggleable__content pre {margin: 0.2em;color: black;border-radius: 0.25em;background-color: #f0f8ff;}#sk-container-id-3 input.sk-toggleable__control:checked~div.sk-toggleable__content {max-height: 200px;max-width: 100%;overflow: auto;}#sk-container-id-3 input.sk-toggleable__control:checked~label.sk-toggleable__label-arrow:before {content: \"▾\";}#sk-container-id-3 div.sk-estimator input.sk-toggleable__control:checked~label.sk-toggleable__label {background-color: #d4ebff;}#sk-container-id-3 div.sk-label input.sk-toggleable__control:checked~label.sk-toggleable__label {background-color: #d4ebff;}#sk-container-id-3 input.sk-hidden--visually {border: 0;clip: rect(1px 1px 1px 1px);clip: rect(1px, 1px, 1px, 1px);height: 1px;margin: -1px;overflow: hidden;padding: 0;position: absolute;width: 1px;}#sk-container-id-3 div.sk-estimator {font-family: monospace;background-color: #f0f8ff;border: 1px dotted black;border-radius: 0.25em;box-sizing: border-box;margin-bottom: 0.5em;}#sk-container-id-3 div.sk-estimator:hover {background-color: #d4ebff;}#sk-container-id-3 div.sk-parallel-item::after {content: \"\";width: 100%;border-bottom: 1px solid gray;flex-grow: 1;}#sk-container-id-3 div.sk-label:hover label.sk-toggleable__label {background-color: #d4ebff;}#sk-container-id-3 div.sk-serial::before {content: \"\";position: absolute;border-left: 1px solid gray;box-sizing: border-box;top: 0;bottom: 0;left: 50%;z-index: 0;}#sk-container-id-3 div.sk-serial {display: flex;flex-direction: column;align-items: center;background-color: white;padding-right: 0.2em;padding-left: 0.2em;position: relative;}#sk-container-id-3 div.sk-item {position: relative;z-index: 1;}#sk-container-id-3 div.sk-parallel {display: flex;align-items: stretch;justify-content: center;background-color: white;position: relative;}#sk-container-id-3 div.sk-item::before, #sk-container-id-3 div.sk-parallel-item::before {content: \"\";position: absolute;border-left: 1px solid gray;box-sizing: border-box;top: 0;bottom: 0;left: 50%;z-index: -1;}#sk-container-id-3 div.sk-parallel-item {display: flex;flex-direction: column;z-index: 1;position: relative;background-color: white;}#sk-container-id-3 div.sk-parallel-item:first-child::after {align-self: flex-end;width: 50%;}#sk-container-id-3 div.sk-parallel-item:last-child::after {align-self: flex-start;width: 50%;}#sk-container-id-3 div.sk-parallel-item:only-child::after {width: 0;}#sk-container-id-3 div.sk-dashed-wrapped {border: 1px dashed gray;margin: 0 0.4em 0.5em 0.4em;box-sizing: border-box;padding-bottom: 0.4em;background-color: white;}#sk-container-id-3 div.sk-label label {font-family: monospace;font-weight: bold;display: inline-block;line-height: 1.2em;}#sk-container-id-3 div.sk-label-container {text-align: center;}#sk-container-id-3 div.sk-container {/* jupyter's `normalize.less` sets `[hidden] { display: none; }` but bootstrap.min.css set `[hidden] { display: none !important; }` so we also need the `!important` here to be able to override the default hidden behavior on the sphinx rendered scikit-learn.org. See: https://github.com/scikit-learn/scikit-learn/issues/21755 */display: inline-block !important;position: relative;}#sk-container-id-3 div.sk-text-repr-fallback {display: none;}</style><div id=\"sk-container-id-3\" class=\"sk-top-container\"><div class=\"sk-text-repr-fallback\"><pre>LinearSVC()</pre><b>In a Jupyter environment, please rerun this cell to show the HTML representation or trust the notebook. <br />On GitHub, the HTML representation is unable to render, please try loading this page with nbviewer.org.</b></div><div class=\"sk-container\" hidden><div class=\"sk-item\"><div class=\"sk-estimator sk-toggleable\"><input class=\"sk-toggleable__control sk-hidden--visually\" id=\"sk-estimator-id-3\" type=\"checkbox\" checked><label for=\"sk-estimator-id-3\" class=\"sk-toggleable__label sk-toggleable__label-arrow\">LinearSVC</label><div class=\"sk-toggleable__content\"><pre>LinearSVC()</pre></div></div></div></div></div>"
      ],
      "text/plain": [
       "LinearSVC()"
      ]
     },
     "execution_count": 34,
     "metadata": {},
     "output_type": "execute_result"
    }
   ],
   "source": [
    "svm = LinearSVC()\n",
    "svm.fit(train1,train2)"
   ]
  },
  {
   "cell_type": "code",
   "execution_count": 35,
   "id": "e0543af7",
   "metadata": {},
   "outputs": [],
   "source": [
    "svm_pred = svm.predict(val1)"
   ]
  },
  {
   "cell_type": "code",
   "execution_count": 36,
   "id": "06fd4b94",
   "metadata": {},
   "outputs": [
    {
     "data": {
      "text/plain": [
       "0.6350877192982456"
      ]
     },
     "execution_count": 36,
     "metadata": {},
     "output_type": "execute_result"
    }
   ],
   "source": [
    "accuracy_score(val2,svm_pred)"
   ]
  },
  {
   "cell_type": "code",
   "execution_count": 53,
   "id": "f216115a",
   "metadata": {},
   "outputs": [
    {
     "name": "stdout",
     "output_type": "stream",
     "text": [
      "              precision    recall  f1-score   support\n",
      "\n",
      "           1       0.99      0.64      0.78       565\n",
      "           2       0.01      0.60      0.03         5\n",
      "\n",
      "    accuracy                           0.64       570\n",
      "   macro avg       0.50      0.62      0.40       570\n",
      "weighted avg       0.99      0.64      0.77       570\n",
      "\n"
     ]
    }
   ],
   "source": [
    "print(classification_report(val2,svm_pred))"
   ]
  },
  {
   "cell_type": "code",
   "execution_count": 38,
   "id": "cdc9c732",
   "metadata": {},
   "outputs": [
    {
     "data": {
      "text/plain": [
       "<sklearn.metrics._plot.confusion_matrix.ConfusionMatrixDisplay at 0x1a8446590d0>"
      ]
     },
     "execution_count": 38,
     "metadata": {},
     "output_type": "execute_result"
    },
    {
     "data": {
      "image/png": "[encoded data removed]",
      "text/plain": [
       "<Figure size 640x480 with 2 Axes>"
      ]
     },
     "metadata": {},
     "output_type": "display_data"
    }
   ],
   "source": [
    "metrics.ConfusionMatrixDisplay.from_predictions(val2,svm_pred,normalize='all')"
   ]
  },
  {
   "cell_type": "markdown",
   "id": "b81b6e57",
   "metadata": {},
   "source": [
    "# 4) KNN Classifier :-"
   ]
  },
  {
   "cell_type": "code",
   "execution_count": 39,
   "id": "ae912f54",
   "metadata": {},
   "outputs": [
    {
     "data": {
      "text/html": [
       "<style>#sk-container-id-4 {color: black;background-color: white;}#sk-container-id-4 pre{padding: 0;}#sk-container-id-4 div.sk-toggleable {background-color: white;}#sk-container-id-4 label.sk-toggleable__label {cursor: pointer;display: block;width: 100%;margin-bottom: 0;padding: 0.3em;box-sizing: border-box;text-align: center;}#sk-container-id-4 label.sk-toggleable__label-arrow:before {content: \"▸\";float: left;margin-right: 0.25em;color: #696969;}#sk-container-id-4 label.sk-toggleable__label-arrow:hover:before {color: black;}#sk-container-id-4 div.sk-estimator:hover label.sk-toggleable__label-arrow:before {color: black;}#sk-container-id-4 div.sk-toggleable__content {max-height: 0;max-width: 0;overflow: hidden;text-align: left;background-color: #f0f8ff;}#sk-container-id-4 div.sk-toggleable__content pre {margin: 0.2em;color: black;border-radius: 0.25em;background-color: #f0f8ff;}#sk-container-id-4 input.sk-toggleable__control:checked~div.sk-toggleable__content {max-height: 200px;max-width: 100%;overflow: auto;}#sk-container-id-4 input.sk-toggleable__control:checked~label.sk-toggleable__label-arrow:before {content: \"▾\";}#sk-container-id-4 div.sk-estimator input.sk-toggleable__control:checked~label.sk-toggleable__label {background-color: #d4ebff;}#sk-container-id-4 div.sk-label input.sk-toggleable__control:checked~label.sk-toggleable__label {background-color: #d4ebff;}#sk-container-id-4 input.sk-hidden--visually {border: 0;clip: rect(1px 1px 1px 1px);clip: rect(1px, 1px, 1px, 1px);height: 1px;margin: -1px;overflow: hidden;padding: 0;position: absolute;width: 1px;}#sk-container-id-4 div.sk-estimator {font-family: monospace;background-color: #f0f8ff;border: 1px dotted black;border-radius: 0.25em;box-sizing: border-box;margin-bottom: 0.5em;}#sk-container-id-4 div.sk-estimator:hover {background-color: #d4ebff;}#sk-container-id-4 div.sk-parallel-item::after {content: \"\";width: 100%;border-bottom: 1px solid gray;flex-grow: 1;}#sk-container-id-4 div.sk-label:hover label.sk-toggleable__label {background-color: #d4ebff;}#sk-container-id-4 div.sk-serial::before {content: \"\";position: absolute;border-left: 1px solid gray;box-sizing: border-box;top: 0;bottom: 0;left: 50%;z-index: 0;}#sk-container-id-4 div.sk-serial {display: flex;flex-direction: column;align-items: center;background-color: white;padding-right: 0.2em;padding-left: 0.2em;position: relative;}#sk-container-id-4 div.sk-item {position: relative;z-index: 1;}#sk-container-id-4 div.sk-parallel {display: flex;align-items: stretch;justify-content: center;background-color: white;position: relative;}#sk-container-id-4 div.sk-item::before, #sk-container-id-4 div.sk-parallel-item::before {content: \"\";position: absolute;border-left: 1px solid gray;box-sizing: border-box;top: 0;bottom: 0;left: 50%;z-index: -1;}#sk-container-id-4 div.sk-parallel-item {display: flex;flex-direction: column;z-index: 1;position: relative;background-color: white;}#sk-container-id-4 div.sk-parallel-item:first-child::after {align-self: flex-end;width: 50%;}#sk-container-id-4 div.sk-parallel-item:last-child::after {align-self: flex-start;width: 50%;}#sk-container-id-4 div.sk-parallel-item:only-child::after {width: 0;}#sk-container-id-4 div.sk-dashed-wrapped {border: 1px dashed gray;margin: 0 0.4em 0.5em 0.4em;box-sizing: border-box;padding-bottom: 0.4em;background-color: white;}#sk-container-id-4 div.sk-label label {font-family: monospace;font-weight: bold;display: inline-block;line-height: 1.2em;}#sk-container-id-4 div.sk-label-container {text-align: center;}#sk-container-id-4 div.sk-container {/* jupyter's `normalize.less` sets `[hidden] { display: none; }` but bootstrap.min.css set `[hidden] { display: none !important; }` so we also need the `!important` here to be able to override the default hidden behavior on the sphinx rendered scikit-learn.org. See: https://github.com/scikit-learn/scikit-learn/issues/21755 */display: inline-block !important;position: relative;}#sk-container-id-4 div.sk-text-repr-fallback {display: none;}</style><div id=\"sk-container-id-4\" class=\"sk-top-container\"><div class=\"sk-text-repr-fallback\"><pre>KNeighborsClassifier(n_neighbors=3)</pre><b>In a Jupyter environment, please rerun this cell to show the HTML representation or trust the notebook. <br />On GitHub, the HTML representation is unable to render, please try loading this page with nbviewer.org.</b></div><div class=\"sk-container\" hidden><div class=\"sk-item\"><div class=\"sk-estimator sk-toggleable\"><input class=\"sk-toggleable__control sk-hidden--visually\" id=\"sk-estimator-id-4\" type=\"checkbox\" checked><label for=\"sk-estimator-id-4\" class=\"sk-toggleable__label sk-toggleable__label-arrow\">KNeighborsClassifier</label><div class=\"sk-toggleable__content\"><pre>KNeighborsClassifier(n_neighbors=3)</pre></div></div></div></div></div>"
      ],
      "text/plain": [
       "KNeighborsClassifier(n_neighbors=3)"
      ]
     },
     "execution_count": 39,
     "metadata": {},
     "output_type": "execute_result"
    }
   ],
   "source": [
    "knn = KNeighborsClassifier(n_neighbors = 3)\n",
    "knn.fit(train1,train2)"
   ]
  },
  {
   "cell_type": "code",
   "execution_count": 40,
   "id": "bcdca894",
   "metadata": {},
   "outputs": [],
   "source": [
    "knn_pred = knn.predict(val1)"
   ]
  },
  {
   "cell_type": "code",
   "execution_count": 41,
   "id": "c189741a",
   "metadata": {},
   "outputs": [
    {
     "data": {
      "text/plain": [
       "0.9912280701754386"
      ]
     },
     "execution_count": 41,
     "metadata": {},
     "output_type": "execute_result"
    }
   ],
   "source": [
    "accuracy_score(val2,knn_pred)"
   ]
  },
  {
   "cell_type": "code",
   "execution_count": 54,
   "id": "b0f2de62",
   "metadata": {},
   "outputs": [
    {
     "name": "stdout",
     "output_type": "stream",
     "text": [
      "              precision    recall  f1-score   support\n",
      "\n",
      "           1       0.99      1.00      1.00       565\n",
      "           2       0.00      0.00      0.00         5\n",
      "\n",
      "    accuracy                           0.99       570\n",
      "   macro avg       0.50      0.50      0.50       570\n",
      "weighted avg       0.98      0.99      0.99       570\n",
      "\n"
     ]
    },
    {
     "name": "stderr",
     "output_type": "stream",
     "text": [
      "C:\\Users\\Anirudh\\AppData\\Local\\Programs\\Python\\Python311\\Lib\\site-packages\\sklearn\\metrics\\_classification.py:1344: UndefinedMetricWarning: Precision and F-score are ill-defined and being set to 0.0 in labels with no predicted samples. Use `zero_division` parameter to control this behavior.\n",
      "  _warn_prf(average, modifier, msg_start, len(result))\n",
      "C:\\Users\\Anirudh\\AppData\\Local\\Programs\\Python\\Python311\\Lib\\site-packages\\sklearn\\metrics\\_classification.py:1344: UndefinedMetricWarning: Precision and F-score are ill-defined and being set to 0.0 in labels with no predicted samples. Use `zero_division` parameter to control this behavior.\n",
      "  _warn_prf(average, modifier, msg_start, len(result))\n",
      "C:\\Users\\Anirudh\\AppData\\Local\\Programs\\Python\\Python311\\Lib\\site-packages\\sklearn\\metrics\\_classification.py:1344: UndefinedMetricWarning: Precision and F-score are ill-defined and being set to 0.0 in labels with no predicted samples. Use `zero_division` parameter to control this behavior.\n",
      "  _warn_prf(average, modifier, msg_start, len(result))\n"
     ]
    }
   ],
   "source": [
    "print(classification_report(val2,knn_pred))"
   ]
  },
  {
   "cell_type": "code",
   "execution_count": 43,
   "id": "0e232851",
   "metadata": {},
   "outputs": [
    {
     "data": {
      "text/plain": [
       "<sklearn.metrics._plot.confusion_matrix.ConfusionMatrixDisplay at 0x1a845d19250>"
      ]
     },
     "execution_count": 43,
     "metadata": {},
     "output_type": "execute_result"
    },
    {
     "data": {
      "image/png": "[encoded data removed]",
      "text/plain": [
       "<Figure size 640x480 with 2 Axes>"
      ]
     },
     "metadata": {},
     "output_type": "display_data"
    }
   ],
   "source": [
    "metrics.ConfusionMatrixDisplay.from_predictions(val2,knn_pred,normalize='all')"
   ]
  },
  {
   "cell_type": "markdown",
   "id": "cff8e337",
   "metadata": {},
   "source": [
    "# 5) Random Forest Classifier :-"
   ]
  },
  {
   "cell_type": "code",
   "execution_count": 44,
   "id": "8d5759de",
   "metadata": {},
   "outputs": [
    {
     "data": {
      "text/html": [
       "<style>#sk-container-id-5 {color: black;background-color: white;}#sk-container-id-5 pre{padding: 0;}#sk-container-id-5 div.sk-toggleable {background-color: white;}#sk-container-id-5 label.sk-toggleable__label {cursor: pointer;display: block;width: 100%;margin-bottom: 0;padding: 0.3em;box-sizing: border-box;text-align: center;}#sk-container-id-5 label.sk-toggleable__label-arrow:before {content: \"▸\";float: left;margin-right: 0.25em;color: #696969;}#sk-container-id-5 label.sk-toggleable__label-arrow:hover:before {color: black;}#sk-container-id-5 div.sk-estimator:hover label.sk-toggleable__label-arrow:before {color: black;}#sk-container-id-5 div.sk-toggleable__content {max-height: 0;max-width: 0;overflow: hidden;text-align: left;background-color: #f0f8ff;}#sk-container-id-5 div.sk-toggleable__content pre {margin: 0.2em;color: black;border-radius: 0.25em;background-color: #f0f8ff;}#sk-container-id-5 input.sk-toggleable__control:checked~div.sk-toggleable__content {max-height: 200px;max-width: 100%;overflow: auto;}#sk-container-id-5 input.sk-toggleable__control:checked~label.sk-toggleable__label-arrow:before {content: \"▾\";}#sk-container-id-5 div.sk-estimator input.sk-toggleable__control:checked~label.sk-toggleable__label {background-color: #d4ebff;}#sk-container-id-5 div.sk-label input.sk-toggleable__control:checked~label.sk-toggleable__label {background-color: #d4ebff;}#sk-container-id-5 input.sk-hidden--visually {border: 0;clip: rect(1px 1px 1px 1px);clip: rect(1px, 1px, 1px, 1px);height: 1px;margin: -1px;overflow: hidden;padding: 0;position: absolute;width: 1px;}#sk-container-id-5 div.sk-estimator {font-family: monospace;background-color: #f0f8ff;border: 1px dotted black;border-radius: 0.25em;box-sizing: border-box;margin-bottom: 0.5em;}#sk-container-id-5 div.sk-estimator:hover {background-color: #d4ebff;}#sk-container-id-5 div.sk-parallel-item::after {content: \"\";width: 100%;border-bottom: 1px solid gray;flex-grow: 1;}#sk-container-id-5 div.sk-label:hover label.sk-toggleable__label {background-color: #d4ebff;}#sk-container-id-5 div.sk-serial::before {content: \"\";position: absolute;border-left: 1px solid gray;box-sizing: border-box;top: 0;bottom: 0;left: 50%;z-index: 0;}#sk-container-id-5 div.sk-serial {display: flex;flex-direction: column;align-items: center;background-color: white;padding-right: 0.2em;padding-left: 0.2em;position: relative;}#sk-container-id-5 div.sk-item {position: relative;z-index: 1;}#sk-container-id-5 div.sk-parallel {display: flex;align-items: stretch;justify-content: center;background-color: white;position: relative;}#sk-container-id-5 div.sk-item::before, #sk-container-id-5 div.sk-parallel-item::before {content: \"\";position: absolute;border-left: 1px solid gray;box-sizing: border-box;top: 0;bottom: 0;left: 50%;z-index: -1;}#sk-container-id-5 div.sk-parallel-item {display: flex;flex-direction: column;z-index: 1;position: relative;background-color: white;}#sk-container-id-5 div.sk-parallel-item:first-child::after {align-self: flex-end;width: 50%;}#sk-container-id-5 div.sk-parallel-item:last-child::after {align-self: flex-start;width: 50%;}#sk-container-id-5 div.sk-parallel-item:only-child::after {width: 0;}#sk-container-id-5 div.sk-dashed-wrapped {border: 1px dashed gray;margin: 0 0.4em 0.5em 0.4em;box-sizing: border-box;padding-bottom: 0.4em;background-color: white;}#sk-container-id-5 div.sk-label label {font-family: monospace;font-weight: bold;display: inline-block;line-height: 1.2em;}#sk-container-id-5 div.sk-label-container {text-align: center;}#sk-container-id-5 div.sk-container {/* jupyter's `normalize.less` sets `[hidden] { display: none; }` but bootstrap.min.css set `[hidden] { display: none !important; }` so we also need the `!important` here to be able to override the default hidden behavior on the sphinx rendered scikit-learn.org. See: https://github.com/scikit-learn/scikit-learn/issues/21755 */display: inline-block !important;position: relative;}#sk-container-id-5 div.sk-text-repr-fallback {display: none;}</style><div id=\"sk-container-id-5\" class=\"sk-top-container\"><div class=\"sk-text-repr-fallback\"><pre>RandomForestClassifier()</pre><b>In a Jupyter environment, please rerun this cell to show the HTML representation or trust the notebook. <br />On GitHub, the HTML representation is unable to render, please try loading this page with nbviewer.org.</b></div><div class=\"sk-container\" hidden><div class=\"sk-item\"><div class=\"sk-estimator sk-toggleable\"><input class=\"sk-toggleable__control sk-hidden--visually\" id=\"sk-estimator-id-5\" type=\"checkbox\" checked><label for=\"sk-estimator-id-5\" class=\"sk-toggleable__label sk-toggleable__label-arrow\">RandomForestClassifier</label><div class=\"sk-toggleable__content\"><pre>RandomForestClassifier()</pre></div></div></div></div></div>"
      ],
      "text/plain": [
       "RandomForestClassifier()"
      ]
     },
     "execution_count": 44,
     "metadata": {},
     "output_type": "execute_result"
    }
   ],
   "source": [
    "rf = RandomForestClassifier()\n",
    "rf.fit(train1,train2)"
   ]
  },
  {
   "cell_type": "code",
   "execution_count": 45,
   "id": "c8702cd2",
   "metadata": {},
   "outputs": [],
   "source": [
    "rf_pred = rf.predict(val1)"
   ]
  },
  {
   "cell_type": "code",
   "execution_count": 46,
   "id": "14097587",
   "metadata": {},
   "outputs": [
    {
     "data": {
      "text/plain": [
       "0.9912280701754386"
      ]
     },
     "execution_count": 46,
     "metadata": {},
     "output_type": "execute_result"
    }
   ],
   "source": [
    "accuracy_score(val2,rf_pred)"
   ]
  },
  {
   "cell_type": "code",
   "execution_count": 55,
   "id": "98c29f96",
   "metadata": {},
   "outputs": [
    {
     "name": "stdout",
     "output_type": "stream",
     "text": [
      "              precision    recall  f1-score   support\n",
      "\n",
      "           1       0.99      1.00      1.00       565\n",
      "           2       0.00      0.00      0.00         5\n",
      "\n",
      "    accuracy                           0.99       570\n",
      "   macro avg       0.50      0.50      0.50       570\n",
      "weighted avg       0.98      0.99      0.99       570\n",
      "\n"
     ]
    },
    {
     "name": "stderr",
     "output_type": "stream",
     "text": [
      "C:\\Users\\Anirudh\\AppData\\Local\\Programs\\Python\\Python311\\Lib\\site-packages\\sklearn\\metrics\\_classification.py:1344: UndefinedMetricWarning: Precision and F-score are ill-defined and being set to 0.0 in labels with no predicted samples. Use `zero_division` parameter to control this behavior.\n",
      "  _warn_prf(average, modifier, msg_start, len(result))\n",
      "C:\\Users\\Anirudh\\AppData\\Local\\Programs\\Python\\Python311\\Lib\\site-packages\\sklearn\\metrics\\_classification.py:1344: UndefinedMetricWarning: Precision and F-score are ill-defined and being set to 0.0 in labels with no predicted samples. Use `zero_division` parameter to control this behavior.\n",
      "  _warn_prf(average, modifier, msg_start, len(result))\n",
      "C:\\Users\\Anirudh\\AppData\\Local\\Programs\\Python\\Python311\\Lib\\site-packages\\sklearn\\metrics\\_classification.py:1344: UndefinedMetricWarning: Precision and F-score are ill-defined and being set to 0.0 in labels with no predicted samples. Use `zero_division` parameter to control this behavior.\n",
      "  _warn_prf(average, modifier, msg_start, len(result))\n"
     ]
    }
   ],
   "source": [
    "print(classification_report(val2,rf_pred))"
   ]
  },
  {
   "cell_type": "code",
   "execution_count": 48,
   "id": "b3d33273",
   "metadata": {},
   "outputs": [
    {
     "data": {
      "text/plain": [
       "<sklearn.metrics._plot.confusion_matrix.ConfusionMatrixDisplay at 0x1a845d62cd0>"
      ]
     },
     "execution_count": 48,
     "metadata": {},
     "output_type": "execute_result"
    },
    {
     "data": {
      "image/png": "[encoded data removed]",
      "text/plain": [
       "<Figure size 640x480 with 2 Axes>"
      ]
     },
     "metadata": {},
     "output_type": "display_data"
    }
   ],
   "source": [
    "metrics.ConfusionMatrixDisplay.from_predictions(val2,rf_pred,normalize='all')"
   ]
  },
  {
   "cell_type": "markdown",
   "id": "3d47c2c1",
   "metadata": {},
   "source": [
    "# A) Accuracy comparision of all models :-"
   ]
  },
  {
   "cell_type": "code",
   "execution_count": 49,
   "id": "2631e22c",
   "metadata": {},
   "outputs": [
    {
     "name": "stdout",
     "output_type": "stream",
     "text": [
      "Accuracy of Naive Bayes : 0.02456140350877193\n",
      "\n",
      "Accuracy of Logistic Regression : 0.5649122807017544\n",
      "\n",
      "Accuracy of KNN Classifier : 0.9912280701754386\n",
      "\n",
      "Accuracy of Support Vector : 0.6350877192982456\n",
      "\n",
      "Accuracy of Random Forest : 0.9912280701754386\n"
     ]
    }
   ],
   "source": [
    "print('Accuracy of Naive Bayes :',accuracy_score(val2,nb_pred))\n",
    "print('\\nAccuracy of Logistic Regression :',accuracy_score(val2,lr_pred))\n",
    "print('\\nAccuracy of KNN Classifier :',accuracy_score(val2,knn_pred))\n",
    "print('\\nAccuracy of Support Vector :',accuracy_score(val2,svm_pred))\n",
    "print('\\nAccuracy of Random Forest :',accuracy_score(val2,rf_pred))"
   ]
  },
  {
   "cell_type": "code",
   "execution_count": null,
   "id": "555a9989",
   "metadata": {},
   "outputs": [],
   "source": []
  }
 ],
 "metadata": {
  "kernelspec": {
   "display_name": "Python 3 (ipykernel)",
   "language": "python",
   "name": "python3"
  },
  "language_info": {
   "codemirror_mode": {
    "name": "ipython",
    "version": 3
   },
   "file_extension": ".py",
   "mimetype": "text/x-python",
   "name": "python",
   "nbconvert_exporter": "python",
   "pygments_lexer": "ipython3",
   "version": "3.11.1"
  }
 },
 "nbformat": 4,
 "nbformat_minor": 5
}
